{
 "cells": [
  {
   "cell_type": "code",
   "execution_count": 16,
   "metadata": {},
   "outputs": [
    {
     "name": "stdout",
     "output_type": "stream",
     "text": [
      "sentences.txt     submission-1.txt  submission-2.txt  week2_task.ipynb\r\n"
     ]
    }
   ],
   "source": [
    "%ls"
   ]
  },
  {
   "cell_type": "code",
   "execution_count": 1,
   "metadata": {},
   "outputs": [
    {
     "name": "stdout",
     "output_type": "stream",
     "text": [
      "[[ 1.  1.  1. ...,  0.  0.  0.]\n",
      " [ 0.  0.  1. ...,  0.  0.  0.]\n",
      " [ 0.  0.  2. ...,  0.  0.  0.]\n",
      " ..., \n",
      " [ 0.  0.  0. ...,  0.  0.  0.]\n",
      " [ 1.  0.  1. ...,  0.  0.  0.]\n",
      " [ 0.  0.  0. ...,  0.  0.  0.]]\n"
     ]
    }
   ],
   "source": [
    "import re\n",
    "import numpy\n",
    "file_obj = open('sentences.txt', 'r')\n",
    "\n",
    "with file_obj:\n",
    "    content = file_obj.readlines()\n",
    "content = [filter(None,re.split('[^a-z]',x.strip().lower())) for x in content] \n",
    "words_index = dict()\n",
    "count = 0\n",
    "for sentences in content:\n",
    "   for word in sentences:\n",
    "        if word not in words_index:\n",
    "            words_index[word] = count\n",
    "            count += 1\n",
    "num_sentences = len(content)\n",
    "num_words = len(words_index)\n",
    "matrix =  numpy.zeros([num_sentences,num_words])\n",
    "for sentences in range (0,num_sentences-1):\n",
    "    for words in words_index:\n",
    "       matrix[sentences][words_index[words]] =  content[sentences].count(words)\n",
    "\n",
    "print matrix\n",
    "        \n",
    "        \n",
    "        \n",
    "# print words_frequencies"
   ]
  },
  {
   "cell_type": "code",
   "execution_count": 144,
   "metadata": {},
   "outputs": [
    {
     "ename": "KeyError",
     "evalue": "'16'",
     "output_type": "error",
     "traceback": [
      "\u001b[0;31m---------------------------------------------------------------------------\u001b[0m",
      "\u001b[0;31mKeyError\u001b[0m                                  Traceback (most recent call last)",
      "\u001b[0;32m<ipython-input-144-a3c76808bd9f>\u001b[0m in \u001b[0;36m<module>\u001b[0;34m()\u001b[0m\n\u001b[1;32m      2\u001b[0m   \u001b[0;34m'Apple'\u001b[0m\u001b[0;34m:\u001b[0m \u001b[0;34m{\u001b[0m\u001b[0;34m'American'\u001b[0m\u001b[0;34m:\u001b[0m\u001b[0;34m'16'\u001b[0m\u001b[0;34m,\u001b[0m \u001b[0;34m'Mexican'\u001b[0m\u001b[0;34m:\u001b[0m\u001b[0;36m10\u001b[0m\u001b[0;34m,\u001b[0m \u001b[0;34m'Chinese'\u001b[0m\u001b[0;34m:\u001b[0m\u001b[0;36m5\u001b[0m\u001b[0;34m}\u001b[0m\u001b[0;34m,\u001b[0m\u001b[0;34m\u001b[0m\u001b[0m\n\u001b[1;32m      3\u001b[0m   'Grapes':{'Arabian':'25','Indian':'20'} }\n\u001b[0;32m----> 4\u001b[0;31m \u001b[0mmydict\u001b[0m\u001b[0;34m[\u001b[0m\u001b[0;34m\"Apple\"\u001b[0m\u001b[0;34m]\u001b[0m\u001b[0;34m[\u001b[0m\u001b[0;34m\"16\"\u001b[0m\u001b[0;34m]\u001b[0m\u001b[0;34m\u001b[0m\u001b[0m\n\u001b[0m",
      "\u001b[0;31mKeyError\u001b[0m: '16'"
     ]
    }
   ],
   "source": [
    "mydict = {\n",
    "  'Apple': {'American':'16', 'Mexican':10, 'Chinese':5},\n",
    "  'Grapes':{'Arabian':'25','Indian':'20'} }\n",
    "mydict[\"Apple\"][\"16\"]"
   ]
  }
 ],
 "metadata": {
  "kernelspec": {
   "display_name": "Python 2",
   "language": "python",
   "name": "python2"
  },
  "language_info": {
   "codemirror_mode": {
    "name": "ipython",
    "version": 2
   },
   "file_extension": ".py",
   "mimetype": "text/x-python",
   "name": "python",
   "nbconvert_exporter": "python",
   "pygments_lexer": "ipython2",
   "version": "2.7.14"
  }
 },
 "nbformat": 4,
 "nbformat_minor": 2
}

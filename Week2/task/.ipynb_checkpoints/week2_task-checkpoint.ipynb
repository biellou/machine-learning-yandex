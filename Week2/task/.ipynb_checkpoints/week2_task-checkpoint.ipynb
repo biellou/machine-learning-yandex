{
 "cells": [
  {
   "cell_type": "code",
   "execution_count": 1,
   "metadata": {},
   "outputs": [
    {
     "name": "stdout",
     "output_type": "stream",
     "text": [
      "[[ 1.  1.  1. ...,  0.  0.  0.]\n",
      " [ 0.  0.  1. ...,  0.  0.  0.]\n",
      " [ 0.  0.  2. ...,  0.  0.  0.]\n",
      " ..., \n",
      " [ 0.  0.  0. ...,  0.  0.  0.]\n",
      " [ 1.  0.  1. ...,  0.  0.  0.]\n",
      " [ 0.  0.  0. ...,  0.  0.  0.]]\n"
     ]
    }
   ],
   "source": [
    "import re\n",
    "import numpy\n",
    "#step 1\n",
    "file_obj = open('sentences.txt', 'r')\n",
    "\n",
    "with file_obj:\n",
    "    content = file_obj.readlines()\n",
    "#steps 2-3\n",
    "content = [filter(None,re.split('[^a-z]',x.strip().lower())) for x in content] \n",
    "\n",
    "#step 4\n",
    "words_index = dict()\n",
    "count = 0\n",
    "for sentences in content:\n",
    "   for word in sentences:\n",
    "        if word not in words_index:\n",
    "            words_index[word] = count\n",
    "            count += 1\n",
    "#step 5\n",
    "num_sentences = len(content)\n",
    "num_words = len(words_index)\n",
    "matrix =  numpy.zeros([num_sentences,num_words])\n",
    "for sentences in range (0,num_sentences-1):\n",
    "    for words in words_index:\n",
    "       matrix[sentences][words_index[words]] =  content[sentences].count(words)\n",
    "\n",
    "#step 6\n",
    "        \n",
    "        \n",
    "        \n",
    "# print words_frequencies"
   ]
  }
 ],
 "metadata": {
  "kernelspec": {
   "display_name": "Python 2",
   "language": "python",
   "name": "python2"
  },
  "language_info": {
   "codemirror_mode": {
    "name": "ipython",
    "version": 2
   },
   "file_extension": ".py",
   "mimetype": "text/x-python",
   "name": "python",
   "nbconvert_exporter": "python",
   "pygments_lexer": "ipython2",
   "version": "2.7.14"
  }
 },
 "nbformat": 4,
 "nbformat_minor": 2
}

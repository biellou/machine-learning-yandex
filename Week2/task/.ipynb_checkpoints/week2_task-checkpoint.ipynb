{
 "cells": [
  {
   "cell_type": "code",
   "execution_count": 16,
   "metadata": {},
   "outputs": [
    {
     "name": "stdout",
     "output_type": "stream",
     "text": [
      "sentences.txt     submission-1.txt  submission-2.txt  week2_task.ipynb\r\n"
     ]
    }
   ],
   "source": [
    "%ls"
   ]
  },
  {
   "cell_type": "code",
   "execution_count": 106,
   "metadata": {},
   "outputs": [
    {
     "name": "stdout",
     "output_type": "stream",
     "text": [
      "{'displays': 156, 'osx': 193, 'selection': 68, 'safari': 222, 'just': 32, 'developed': 195, 'over': 171, 'vermin': 73, 'domestic': 88, 'named': 105, 'installed': 182, 'symbols': 150, 'through': 207, 'human': 52, 'world': 143, 'disk': 245, 'its': 75, 'fifth': 250, 'features': 252, 'tamed': 66, 'upgrade': 233, 'lb': 98, 'drive': 249, 'to': 3, 'won': 240, 'deliberately': 65, 'marks': 227, 'has': 130, 'predecessor': 173, 'non': 200, 'which': 183, 'read': 123, 'october': 161, 'every': 216, 'os': 175, 'they': 69, 'not': 7, 'during': 11, 'now': 196, 'possess': 84, 'intel': 190, 'keyboards': 117, 'bytes': 21, 'unnecessary': 103, 'patch': 218, 'predators': 72, 'small': 61, 'output': 42, 'entirely': 236, 'where': 30, 'ears': 53, 'available': 165, 'on': 116, 'often': 114, 'sequence': 33, 'some': 178, 'lion': 203, 'frequency': 51, 'are': 79, 'year': 217, 'download': 206, 'terms': 124, 'concern': 108, 'error': 107, 'for': 38, 'pipes': 129, 'since': 188, 'factory': 181, 'artificial': 67, 'content': 43, 'version': 164, 'run': 246, 'between': 96, 'new': 149, 'learned': 138, 'three': 219, 'piped': 101, 'common': 35, 'concatenate': 27, 'be': 24, 'weighing': 95, 'genes': 87, 'use': 37, 'standard': 44, 'release': 226, 'diploid': 81, 'members': 91, 'x': 176, 'based': 201, 'safer': 106, 'by': 57, 'both': 80, 'commands': 126, 'installation': 187, 'installs': 237, 'of': 20, 'needing': 122, 'allows': 197, 'according': 168, 'july': 204, 'later': 198, 'mac': 174, 's': 208, 'streams': 19, 'receives': 155, 'successor': 162, 'catenates': 18, 'changes': 10, 'or': 49, 'felis': 93, 'major': 9, 'faint': 48, 'useful': 71, 'apple': 169, 'app': 209, 'community': 194, 'one': 63, 'running': 223, 'unix': 141, 'right': 133, 'simply': 17, 'linux': 142, 'sounds': 46, 'size': 90, 'undergone': 8, 'delete': 120, 'from': 147, 'enhancements': 172, 'second': 228, 'their': 192, 'create': 243, 'people': 64, 'two': 166, 't': 241, 'redirection': 111, 'however': 99, 'cats': 5, 'too': 47, 'basic': 137, 'permanently': 119, 'type': 151, 'dogs': 4, 'store': 210, 'more': 253, 'files': 29, 'releases': 199, 'that': 83, 'started': 140, 'contains': 170, 'releasing': 213, 'tiger': 163, 'released': 160, 'part': 211, 'hear': 45, 'external': 248, 'editions': 167, 'off': 247, 'mice': 58, 'with': 104, 'than': 235, 'those': 55, 'longer': 185, 'count': 254, 'made': 56, 'animals': 62, 'mavericks': 225, 'versions': 214, 'default': 110, 'was': 159, 'single': 39, 'cat': 16, 'will': 31, 'can': 23, 'were': 70, 'wild': 77, 'similar': 89, 'interactive': 36, 'and': 59, 'mountain': 202, 'computers': 179, 'have': 6, 'stdout': 157, 'process': 14, 'lines': 145, 'is': 41, 'received': 146, 'moved': 189, 'it': 22, 'an': 231, 'high': 50, 'as': 15, 'incremental': 232, 'file': 40, 'in': 1, 'need': 242, 'domesticated': 74, 'any': 153, 'domestication': 13, 'if': 100, 'binary': 28, 'processors': 191, 'no': 184, 'rather': 234, 'legibility': 125, 'separate': 244, 'firmware': 180, 'when': 139, 'mid': 177, 'also': 25, 'other': 60, 'arguments': 154, 'adjacent': 115, 'online': 215, 'instead': 113, 'you': 121, 'ancestor': 78, 'offered': 230, 'used': 26, 'chromosomes': 85, 'closest': 76, 'information': 135, 'may': 118, 'symbol': 112, 'leopard': 158, 'update': 251, 'most': 220, 'wrong': 109, 'connected': 128, 'yosemite': 224, 'such': 54, 'comparison': 2, 'recent': 221, 'a': 34, 'purchase': 205, 'genus': 92, 'kg': 97, 'organisms': 82, 'using': 144, 'starting': 127, 'clear': 131, 'stdin': 148, 'flow': 134, 'roughly': 86, 'so': 239, 'switch': 212, 'without': 152, 'command': 136, 'place': 238, 'allow': 186, 'time': 229, 'redirected': 102, 'the': 12, 'typically': 94, 'left': 132}\n"
     ]
    }
   ],
   "source": [
    "import re\n",
    "file_obj = open('sentences.txt', 'r')\n",
    "\n",
    "with file_obj:\n",
    "    content = file_obj.readlines()\n",
    "content = [filter(None,re.split('[^a-z]',x.strip().lower())) for x in content] \n",
    "words_frequencies = dict()\n",
    "count = 0\n",
    "for sentences in content:\n",
    "   for word in sentences:\n",
    "        if word not in words_frequencies:\n",
    "            count = count + 1\n",
    "            words_frequencies[word] = count\n",
    "print words_frequencies"
   ]
  },
  {
   "cell_type": "code",
   "execution_count": 80,
   "metadata": {},
   "outputs": [],
   "source": [
    "?filter"
   ]
  }
 ],
 "metadata": {
  "kernelspec": {
   "display_name": "Python 2",
   "language": "python",
   "name": "python2"
  },
  "language_info": {
   "codemirror_mode": {
    "name": "ipython",
    "version": 2
   },
   "file_extension": ".py",
   "mimetype": "text/x-python",
   "name": "python",
   "nbconvert_exporter": "python",
   "pygments_lexer": "ipython2",
   "version": "2.7.14"
  }
 },
 "nbformat": 4,
 "nbformat_minor": 2
}

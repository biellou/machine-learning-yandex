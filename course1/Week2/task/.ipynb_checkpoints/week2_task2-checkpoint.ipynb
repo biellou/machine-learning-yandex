{
 "cells": [
  {
   "cell_type": "code",
   "execution_count": 2,
   "metadata": {},
   "outputs": [
    {
     "name": "stdout",
     "output_type": "stream",
     "text": [
      "[ 4.36 -1.3   0.19 -0.01]\n"
     ]
    },
    {
     "data": {
      "image/png": "[encoded data removed]",
      "text/plain": [
       "<matplotlib.figure.Figure at 0x61bd98310>"
      ]
     },
     "metadata": {},
     "output_type": "display_data"
    }
   ],
   "source": [
    "import numpy as np\n",
    "import matplotlib.pyplot as plt\n",
    "import scipy.linalg\n",
    "\n",
    "#calculating polynom\n",
    "selection = [1,4,10,15]\n",
    "\n",
    "A = []\n",
    "b = []\n",
    "for x in selection:\n",
    "    f = np.sin(x/5.) * np.exp(x/10.) + 5 * np.exp(-x/2.)\n",
    "    b.append(f)\n",
    "    A.append([1, x, x**2, x**3])\n",
    "\n",
    "b = np.array(b)\n",
    "A = np.array(A)\n",
    "A = np.reshape(A, (len(selection),len(selection)))\n",
    "w = scipy.linalg.solve(A,b)\n",
    "\n",
    "#for x in selection:\n",
    "#    f1 = np.sin(x/5) * np.exp(x/10) + 5 * np.exp(-x/2)\n",
    "#    f2 = w[0] +w[1]*x + w[2]* (x**2) + w[3]* (x**3)\n",
    "#    print f1, f2\n",
    "\n",
    "\n",
    "#setting x values for plot\n",
    "arr_points = np.arange(0,16,0.1)\n",
    "\n",
    "#plotting polynom and function\n",
    "func_pol = []\n",
    "func = []\n",
    "\n",
    "for x in arr_points:\n",
    "    #plotting polynom\n",
    "    fw = w[0] +w[1]*x + w[2]* (x**2) + w[3]* (x**3)\n",
    "    func_pol.append(fw)\n",
    "    # plotting function\n",
    "    res = np.sin(x/5.) * np.exp(x/10.) + 5 * np.exp(-x/2.)\n",
    "    func.append(res)\n",
    "    \n",
    "func_pol = np.array(func_pol)\n",
    "func = np.array(func)\n",
    "\n",
    "print np.round(w,2)\n",
    "\n",
    "plt.plot(arr_points,func,'b--',arr_points,func_pol,'g--')\n",
    "plt.show()\n"
   ]
  }
 ],
 "metadata": {
  "kernelspec": {
   "display_name": "Python 2",
   "language": "python",
   "name": "python2"
  },
  "language_info": {
   "codemirror_mode": {
    "name": "ipython",
    "version": 2
   },
   "file_extension": ".py",
   "mimetype": "text/x-python",
   "name": "python",
   "nbconvert_exporter": "python",
   "pygments_lexer": "ipython2",
   "version": "2.7.14"
  }
 },
 "nbformat": 4,
 "nbformat_minor": 2
}

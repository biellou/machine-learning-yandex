{
 "cells": [
  {
   "cell_type": "code",
   "execution_count": 35,
   "metadata": {},
   "outputs": [
    {
     "name": "stdout",
     "output_type": "stream",
     "text": [
      "[ 0  6  4 10 12 16 20  2 13 14 11  8 19  3  9  7  5 15 18  1 17 21]\n"
     ]
    }
   ],
   "source": [
    "import re\n",
    "import numpy\n",
    "from scipy import spatial\n",
    "\n",
    "#Goal: From the file sentences.txt find 2 sentences closest to the sentence in first line\n",
    "\n",
    "#step 1\n",
    "file_obj = open('sentences.txt', 'r')\n",
    "\n",
    "with file_obj:\n",
    "    content = file_obj.readlines()\n",
    "\n",
    "#steps 2-3\n",
    "content = [filter(None,re.split('[^a-z]',x.strip().lower())) for x in content] \n",
    "\n",
    "#step 4\n",
    "words_index = dict()\n",
    "count = 0\n",
    "for sentences in content:\n",
    "   for word in sentences:\n",
    "        if word not in words_index:\n",
    "            words_index[word] = count\n",
    "            count += 1\n",
    "#step 5\n",
    "num_sentences = len(content)\n",
    "num_words = len(words_index)\n",
    "matrix =  numpy.zeros([num_sentences,num_words])\n",
    "for sentences in range (0,num_sentences-1):\n",
    "    for words in words_index:\n",
    "       matrix[sentences][words_index[words]] =  content[sentences].count(words)\n",
    "\n",
    "#step 6\n",
    "cosine_results = []\n",
    "count = 0\n",
    "for lines in matrix:\n",
    "    cosine_results.append(scipy.spatial.distance.cosine(matrix[0],lines))\n",
    "#step 7 Sort\n",
    "print numpy.argsort(cosine_results)"
   ]
  }
 ],
 "metadata": {
  "kernelspec": {
   "display_name": "Python 2",
   "language": "python",
   "name": "python2"
  },
  "language_info": {
   "codemirror_mode": {
    "name": "ipython",
    "version": 2
   },
   "file_extension": ".py",
   "mimetype": "text/x-python",
   "name": "python",
   "nbconvert_exporter": "python",
   "pygments_lexer": "ipython2",
   "version": "2.7.14"
  }
 },
 "nbformat": 4,
 "nbformat_minor": 2
}

{
 "cells": [
  {
   "cell_type": "code",
   "execution_count": 5,
   "metadata": {},
   "outputs": [
    {
     "name": "stdout",
     "output_type": "stream",
     "text": [
      "[[ 0.33716654  0.16507337 -0.56954584 ...,  0.25292666 -0.086109\n",
      "   0.03359959]\n",
      " [-2.15843775 -0.87077137 -0.56954584 ..., -3.88146278 -0.74287257\n",
      "  -0.7271459 ]\n",
      " [ 0.96106761 -0.87077137 -0.56954584 ...,  0.25292666  0.57065457\n",
      "   1.17471783]\n",
      " ..., \n",
      " [-0.91063561  1.2009181   1.14308782 ...,  0.25292666 -0.74287257\n",
      "   0.41397234]\n",
      " [-0.91063561  0.68299574  1.99940464 ...,  0.24237975 -0.74287257\n",
      "  -0.34677315]\n",
      " [ 0.96106761 -0.87077137 -0.56954584 ...,  0.27402049  0.57065457\n",
      "   1.93546333]]\n"
     ]
    }
   ],
   "source": [
    "import pandas as pd\n",
    "import numpy as np\n",
    "import matplotlib\n",
    "from sklearn import metrics\n",
    "from matplotlib import pyplot as plt\n",
    "matplotlib.style.use('ggplot')\n",
    "%matplotlib inline\n",
    "from sklearn.model_selection import train_test_split\n",
    "from sklearn.preprocessing import StandardScaler\n",
    "\n",
    "data = pd.read_csv('data.csv')\n",
    "data.shape\n",
    "\n",
    "X = data.drop('Grant.Status', 1)\n",
    "y = data['Grant.Status']\n",
    "\n",
    "numeric_cols = ['RFCD.Percentage.1', 'RFCD.Percentage.2', 'RFCD.Percentage.3', \n",
    "                'RFCD.Percentage.4', 'RFCD.Percentage.5',\n",
    "                'SEO.Percentage.1', 'SEO.Percentage.2', 'SEO.Percentage.3',\n",
    "                'SEO.Percentage.4', 'SEO.Percentage.5',\n",
    "                'Year.of.Birth.1', 'Number.of.Successful.Grant.1', 'Number.of.Unsuccessful.Grant.1']\n",
    "categorical_cols = list(set(X.columns.values.tolist()) - set(numeric_cols))\n",
    "\n",
    "X_real_zeros = X[numeric_cols].fillna(0)\n",
    "X_cat = X[categorical_cols].astype(str).fillna('NA')\n",
    "\n",
    "(X_train_real_zeros, \n",
    " X_test_real_zeros, \n",
    " y_train, y_test) = train_test_split(X_real_zeros, y, \n",
    "                                     test_size=0.3, \n",
    "                                     random_state=0)\n",
    "\n",
    "std_scaler = StandardScaler()\n",
    "X_train_real_scaled = std_scaler.fit_transform(X_train_real_zeros)\n",
    "X_test_real_scaled = std_scaler.fit_transform(X_test_real_zeros)\n",
    "\n",
    "print X_test_real_scaled"
   ]
  }
 ],
 "metadata": {
  "kernelspec": {
   "display_name": "Python 2",
   "language": "python",
   "name": "python2"
  },
  "language_info": {
   "codemirror_mode": {
    "name": "ipython",
    "version": 2
   },
   "file_extension": ".py",
   "mimetype": "text/x-python",
   "name": "python",
   "nbconvert_exporter": "python",
   "pygments_lexer": "ipython2",
   "version": "2.7.14"
  }
 },
 "nbformat": 4,
 "nbformat_minor": 2
}

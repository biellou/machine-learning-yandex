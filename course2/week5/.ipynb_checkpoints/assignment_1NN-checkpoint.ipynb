{
 "cells": [
  {
   "cell_type": "code",
   "execution_count": 1,
   "metadata": {},
   "outputs": [],
   "source": [
    "from sklearn import ensemble, model_selection, metrics, datasets, neighbors\n",
    "\n",
    "import numpy as np\n",
    "import pandas as pd"
   ]
  },
  {
   "cell_type": "code",
   "execution_count": 2,
   "metadata": {},
   "outputs": [],
   "source": [
    "digits = datasets.load_digits()\n",
    "digits_X = digits.data\n",
    "digits_target = digits.target\n",
    "\n",
    "i = int((0.75) * digits_X.shape[0]) + 1\n",
    "train_data, test_data = np.split(digits_X, [i])\n",
    "train_labels, test_labels = np.split(digits_target, [i])"
   ]
  },
  {
   "cell_type": "code",
   "execution_count": 31,
   "metadata": {},
   "outputs": [
    {
     "name": "stdout",
     "output_type": "stream",
     "text": [
      "0.0378619153675\n"
     ]
    }
   ],
   "source": [
    "def euclid_distance(x1, x2):\n",
    "    return sum((x1-x2)**2)\n",
    "                \n",
    "def nn_handmade(train_data, train_labels, test_data):\n",
    "    prediction = []\n",
    "    for test_item in test_data:\n",
    "        distance_pairs = []\n",
    "        iterator = 0\n",
    "        for i in range(train_data.shape[0]):\n",
    "            distance_pairs.append([])\n",
    "            distance_pairs[i] = [euclid_distance(test_item, train_data[i]), train_labels[i]]\n",
    "        distance_pairs = sorted(distance_pairs)\n",
    "        prediction.append(distance_pairs[0][1])\n",
    "    return prediction\n",
    "\n",
    "def nn_handmade_nosort(train_data, train_labels, test_data):\n",
    "    prediction = []\n",
    "    for test_item in test_data:\n",
    "        distance_pairs = []\n",
    "        min_element_id = 0\n",
    "        min_distance = euclid_distance(train_data[0], test_item)\n",
    "        for i in range(train_data.shape[0]):\n",
    "            distance = euclid_distance(test_item, train_data[i])\n",
    "            if min_distance > distance:\n",
    "                min_element_id = i\n",
    "                min_distance = distance\n",
    "        prediction.append(train_labels[min_element_id])\n",
    "    return prediction\n",
    "\n",
    "hm_predictions = nn_handmade_nosort(train_data, train_labels, test_data)\n",
    "hm_score = 1.*sum([y!=t for (y, t) in zip(test_labels, hm_predictions)])/len(test_labels)\n",
    "print hm_score"
   ]
  },
  {
   "cell_type": "code",
   "execution_count": 4,
   "metadata": {},
   "outputs": [
    {
     "name": "stdout",
     "output_type": "stream",
     "text": [
      "0.0378619153675\n"
     ]
    }
   ],
   "source": [
    "nn_classifier = neighbors.KNeighborsClassifier(n_neighbors=1, p=2, metric='minkowski')\n",
    "nn_classifier.fit(train_data,train_labels)\n",
    "nn_predictions = nn_classifier.predict(test_data)\n",
    "\n",
    "nn_score = 1.*sum([y!=t for (y, t) in zip(test_labels, nn_predictions)])/len(test_labels)\n",
    "print nn_score"
   ]
  },
  {
   "cell_type": "code",
   "execution_count": 5,
   "metadata": {},
   "outputs": [
    {
     "name": "stdout",
     "output_type": "stream",
     "text": [
      "0.0623608017817\n"
     ]
    }
   ],
   "source": [
    "rf_classifier = ensemble.RandomForestClassifier(n_estimators = 1000)\n",
    "rf_classifier.fit(train_data,train_labels)\n",
    "rf_predictions = rf_classifier.predict(test_data)\n",
    "rf_score = 1.*sum([y!=t for (y, t) in zip(test_labels, rf_predictions)])/len(test_labels)\n",
    "print rf_score\n",
    "with open(\"rf_answer1.txt\", \"w\") as answer: answer.write(str(rf_score))"
   ]
  }
 ],
 "metadata": {
  "kernelspec": {
   "display_name": "Python 2",
   "language": "python",
   "name": "python2"
  },
  "language_info": {
   "codemirror_mode": {
    "name": "ipython",
    "version": 2
   },
   "file_extension": ".py",
   "mimetype": "text/x-python",
   "name": "python",
   "nbconvert_exporter": "python",
   "pygments_lexer": "ipython2",
   "version": "2.7.14"
  }
 },
 "nbformat": 4,
 "nbformat_minor": 2
}

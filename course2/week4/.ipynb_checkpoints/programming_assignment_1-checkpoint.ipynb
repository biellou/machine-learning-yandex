{
 "cells": [
  {
   "cell_type": "code",
   "execution_count": 51,
   "metadata": {},
   "outputs": [],
   "source": [
    "from sklearn import datasets, model_selection, tree, metrics, ensemble"
   ]
  },
  {
   "cell_type": "code",
   "execution_count": 13,
   "metadata": {},
   "outputs": [],
   "source": [
    "digits = datasets.load_digits()"
   ]
  },
  {
   "cell_type": "code",
   "execution_count": 60,
   "metadata": {},
   "outputs": [
    {
     "name": "stdout",
     "output_type": "stream",
     "text": [
      "0.83086244395\n"
     ]
    }
   ],
   "source": [
    "X = digits.data\n",
    "target = digits.target\n",
    "decision_tree = tree.DecisionTreeClassifier(random_state=1)\n",
    "scoring = cross_validation.cross_val_score(decision_tree, X, target, scoring = 'accuracy', cv = 10)\n",
    "print scoring.mean()"
   ]
  },
  {
   "cell_type": "code",
   "execution_count": 61,
   "metadata": {},
   "outputs": [
    {
     "name": "stdout",
     "output_type": "stream",
     "text": [
      "0.92711025726\n"
     ]
    }
   ],
   "source": [
    "begging_class = ensemble.BaggingClassifier(decision_tree, n_estimators = 100, random_state=1)\n",
    "scoring = cross_validation.cross_val_score(begging_class, X, target, scoring = 'accuracy', cv = 10)\n",
    "print scoring.mean()"
   ]
  },
  {
   "cell_type": "code",
   "execution_count": 72,
   "metadata": {},
   "outputs": [
    {
     "name": "stdout",
     "output_type": "stream",
     "text": [
      "0.933810128908\n"
     ]
    }
   ],
   "source": [
    "begging_class = ensemble.BaggingClassifier(decision_tree, n_estimators = 100, max_features = int(sqrt(len(X[1]))), random_state=1)\n",
    "scoring = cross_validation.cross_val_score(begging_class, X, target, scoring = 'accuracy', cv = 10)\n",
    "print scoring.mean()"
   ]
  },
  {
   "cell_type": "code",
   "execution_count": 73,
   "metadata": {},
   "outputs": [
    {
     "name": "stdout",
     "output_type": "stream",
     "text": [
      "0.950034963602\n"
     ]
    }
   ],
   "source": [
    "decision_tree = tree.DecisionTreeClassifier(random_state=1, max_features = int(sqrt(len(X[1]))))\n",
    "begging_class = ensemble.BaggingClassifier(decision_tree, n_estimators = 100, random_state=1)\n",
    "scoring = cross_validation.cross_val_score(begging_class, X, target, scoring = 'accuracy', cv = 10)\n",
    "print scoring.mean()"
   ]
  },
  {
   "cell_type": "code",
   "execution_count": 76,
   "metadata": {},
   "outputs": [
    {
     "data": {
      "text/plain": [
       "['warm_start',\n",
       " 'oob_score',\n",
       " 'n_jobs',\n",
       " 'min_impurity_decrease',\n",
       " 'verbose',\n",
       " 'max_leaf_nodes',\n",
       " 'bootstrap',\n",
       " 'min_samples_leaf',\n",
       " 'n_estimators',\n",
       " 'min_samples_split',\n",
       " 'min_weight_fraction_leaf',\n",
       " 'criterion',\n",
       " 'random_state',\n",
       " 'min_impurity_split',\n",
       " 'max_features',\n",
       " 'max_depth',\n",
       " 'class_weight']"
      ]
     },
     "execution_count": 76,
     "metadata": {},
     "output_type": "execute_result"
    }
   ],
   "source": [
    "decision_forest = ensemble.RandomForestClassifier(random_state=1)\n",
    "decision_forest.get_params().keys()"
   ]
  },
  {
   "cell_type": "code",
   "execution_count": 102,
   "metadata": {},
   "outputs": [
    {
     "data": {
      "text/plain": [
       "GridSearchCV(cv=10, error_score='raise',\n",
       "       estimator=RandomForestClassifier(bootstrap=True, class_weight=None, criterion='gini',\n",
       "            max_depth=None, max_features=8, max_leaf_nodes=None,\n",
       "            min_impurity_decrease=0.0, min_impurity_split=None,\n",
       "            min_samples_leaf=1, min_samples_split=2,\n",
       "            min_weight_fraction_leaf=0.0, n_estimators=32, n_jobs=1,\n",
       "            oob_score=False, random_state=1, verbose=0, warm_start=False),\n",
       "       fit_params=None, iid=True, n_jobs=1,\n",
       "       param_grid={'n_estimators': [16, 32, 64], 'max_features': [4, 8, 16], 'max_depth': [8, 16, 32, 64]},\n",
       "       pre_dispatch='2*n_jobs', refit=True, return_train_score='warn',\n",
       "       scoring='accuracy', verbose=0)"
      ]
     },
     "execution_count": 102,
     "metadata": {},
     "output_type": "execute_result"
    }
   ],
   "source": [
    "parameters_grid = {\n",
    "    'n_estimators' : [16,32,64],\n",
    "    'max_features' : [4,8,16],\n",
    "    'max_depth' : [8,16,32,64]\n",
    "    }\n",
    "grid_cv = model_selection.GridSearchCV(decision_forest, parameters_grid, scoring = 'accuracy', cv = 10)\n",
    "grid_cv.fit(train_data, train_labels)"
   ]
  },
  {
   "cell_type": "code",
   "execution_count": 103,
   "metadata": {},
   "outputs": [
    {
     "name": "stdout",
     "output_type": "stream",
     "text": [
      "0.971360381862\n",
      "{'max_features': 8, 'n_estimators': 32, 'max_depth': 16}\n"
     ]
    }
   ],
   "source": [
    "print grid_cv.best_score_\n",
    "print grid_cv.best_params_"
   ]
  }
 ],
 "metadata": {
  "kernelspec": {
   "display_name": "Python 2",
   "language": "python",
   "name": "python2"
  },
  "language_info": {
   "codemirror_mode": {
    "name": "ipython",
    "version": 2
   },
   "file_extension": ".py",
   "mimetype": "text/x-python",
   "name": "python",
   "nbconvert_exporter": "python",
   "pygments_lexer": "ipython2",
   "version": "2.7.14"
  }
 },
 "nbformat": 4,
 "nbformat_minor": 2
}

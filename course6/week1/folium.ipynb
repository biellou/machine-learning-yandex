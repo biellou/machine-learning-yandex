{
 "cells": [
  {
   "cell_type": "code",
   "execution_count": 3,
   "metadata": {},
   "outputs": [
    {
     "name": "stdout",
     "output_type": "stream",
     "text": [
      "Populating the interactive namespace from numpy and matplotlib\n"
     ]
    }
   ],
   "source": [
    "%pylab inline\n",
    "import pandas as pd\n",
    "import datetime\n",
    "from scipy import stats\n",
    "from datetime import timedelta\n"
   ]
  },
  {
   "cell_type": "markdown",
   "metadata": {},
   "source": [
    "Loading data about yellow taxi and about regions"
   ]
  },
  {
   "cell_type": "code",
   "execution_count": 4,
   "metadata": {},
   "outputs": [],
   "source": [
    "tripdata = pd.read_csv(\"yellow_tripdata_2016-05.csv\",\",\", \n",
    "                       parse_dates=['tpep_pickup_datetime', 'tpep_dropoff_datetime'])\n",
    "regions = pd.read_csv(\"regions.csv\",\";\")\n",
    "\n",
    "LonFrom = -74.25559\n",
    "LonTo = -73.70001\n",
    "LatFrom = 40.49612\n",
    "LatTo = 40.91553\n",
    "tripdata = tripdata[(tripdata['trip_distance'] != 0) & \n",
    "          (tripdata['passenger_count'] != 0) &\n",
    "          (tripdata['tpep_pickup_datetime'] != tripdata['tpep_dropoff_datetime']) &\n",
    "          (tripdata['pickup_longitude'] > LonFrom) &\n",
    "          (tripdata['pickup_longitude'] < LonTo) &\n",
    "          (tripdata['pickup_latitude'] > LatFrom) &\n",
    "          (tripdata['pickup_latitude'] < LatTo)]"
   ]
  },
  {
   "cell_type": "code",
   "execution_count": 11,
   "metadata": {},
   "outputs": [],
   "source": [
    "data = zip(tripdata['pickup_latitude'], tripdata['pickup_longitude'])"
   ]
  },
  {
   "cell_type": "code",
   "execution_count": 15,
   "metadata": {},
   "outputs": [],
   "source": [
    "bounds = np.array([LatFrom, LonFrom])"
   ]
  },
  {
   "cell_type": "code",
   "execution_count": 18,
   "metadata": {},
   "outputs": [],
   "source": [
    "import os\n",
    "import folium\n",
    "from folium.plugins import HeatMap\n",
    "\n",
    "m = folium.Map([LatFrom, LonFrom], tiles='stamentoner', zoom_start=6)"
   ]
  },
  {
   "cell_type": "code",
   "execution_count": null,
   "metadata": {},
   "outputs": [],
   "source": [
    "HeatMap(data).add_to(m)\n",
    "\n",
    "# m.save(os.path.join('results', 'Heatmap.html'))\n"
   ]
  },
  {
   "cell_type": "markdown",
   "metadata": {},
   "source": [
    "m"
   ]
  }
 ],
 "metadata": {
  "kernelspec": {
   "display_name": "Python 2",
   "language": "python",
   "name": "python2"
  },
  "language_info": {
   "codemirror_mode": {
    "name": "ipython",
    "version": 2
   },
   "file_extension": ".py",
   "mimetype": "text/x-python",
   "name": "python",
   "nbconvert_exporter": "python",
   "pygments_lexer": "ipython2",
   "version": "2.7.15"
  }
 },
 "nbformat": 4,
 "nbformat_minor": 2
}

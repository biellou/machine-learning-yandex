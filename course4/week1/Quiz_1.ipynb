{
 "cells": [
  {
   "cell_type": "code",
   "execution_count": 8,
   "metadata": {
    "collapsed": true
   },
   "outputs": [],
   "source": [
    "import numpy as np\n",
    "import pandas as pd\n",
    "from statsmodels.stats.weightstats import _zconfint_generic, _tconfint_generic"
   ]
  },
  {
   "cell_type": "code",
   "execution_count": 38,
   "metadata": {},
   "outputs": [
    {
     "name": "stdout",
     "output_type": "stream",
     "text": [
      "  location        town  mortality  hardness\n",
      "0    South        Bath       1247       105\n",
      "1    North  Birkenhead       1668        17\n",
      "2    South  Birmingham       1466         5\n",
      "3    North   Blackburn       1800        14\n",
      "4    North   Blackpool       1609        18\n"
     ]
    }
   ],
   "source": [
    "data = pd.read_csv('water.txt', header=0, sep=',')\n",
    "print data.head()"
   ]
  },
  {
   "cell_type": "code",
   "execution_count": 51,
   "metadata": {},
   "outputs": [
    {
     "name": "stdout",
     "output_type": "stream",
     "text": [
      "1524.14754098 24.028521714278174\n"
     ]
    }
   ],
   "source": [
    "mort_mean = data['mortality'].mean()\n",
    "mort_mean_std = data['mortality'].std()/np.sqrt(len(data['mortality']))\n",
    "print mort_mean, mort_mean_std"
   ]
  },
  {
   "cell_type": "code",
   "execution_count": 67,
   "metadata": {},
   "outputs": [
    {
     "name": "stdout",
     "output_type": "stream",
     "text": [
      "95%% confidence interval: (1476.0833413552848, 1572.2117406119285)\n"
     ]
    }
   ],
   "source": [
    "print \"95%% confidence interval:\", _tconfint_generic(mort_mean, mort_mean_std,\n",
    "                                                                       len(data['mortality']) - 1,\n",
    "                                                                       0.05, 'two-sided')"
   ]
  },
  {
   "cell_type": "code",
   "execution_count": 74,
   "metadata": {},
   "outputs": [
    {
     "name": "stdout",
     "output_type": "stream",
     "text": [
      "1477.0525038218827\n"
     ]
    }
   ],
   "source": [
    "print mort_mean - stats.norm.ppf(1-0.05/2) * mort_mean_std"
   ]
  },
  {
   "cell_type": "code",
   "execution_count": 55,
   "metadata": {},
   "outputs": [
    {
     "name": "stdout",
     "output_type": "stream",
     "text": [
      "95%% confidence interval for mortality(South): (1320.1517462936238, 1433.463638321761)\n",
      "95%% confidence interval for hardness(South): (53.467198692036106, 86.07126284642544)\n"
     ]
    }
   ],
   "source": [
    "data_south = data.loc[data['location'] == 'South']  \n",
    "print \"95%% confidence interval for mortality(South):\", _tconfint_generic(data_south['mortality'].mean(), \n",
    "                                                                         data_south['mortality'].std()/np.sqrt(len(data_south['mortality'])),\n",
    "                                                                       len(data_south['mortality']) - 1,\n",
    "                                                                       0.05, 'two-sided')\n",
    "print \"95%% confidence interval for hardness(South):\", _tconfint_generic(data_south['hardness'].mean(), \n",
    "                                                                         data_south['hardness'].std()/np.sqrt(len(data_south['mortality'])),\n",
    "                                                                       len(data_south['hardness']) - 1,\n",
    "                                                                       0.05, 'two-sided')"
   ]
  },
  {
   "cell_type": "code",
   "execution_count": 56,
   "metadata": {},
   "outputs": [
    {
     "name": "stdout",
     "output_type": "stream",
     "text": [
      "95%% confidence interval for mortality (North): (1586.5605251961385, 1680.6394748038613)\n",
      "95%% confidence interval for hardness(South): (21.42248728572426, 39.37751271427574)\n"
     ]
    }
   ],
   "source": [
    "data_north = data.loc[data['location'] == 'North']  \n",
    "print \"95%% confidence interval for mortality (North):\", _tconfint_generic(data_north['mortality'].mean(), \n",
    "                                                                           data_north['mortality'].std()/np.sqrt(len(data_north['mortality'])),\n",
    "                                                                       len(data_north['mortality']) - 1,\n",
    "                                                                       0.05, 'two-sided')\n",
    "print \"95%% confidence interval for hardness(South):\", _tconfint_generic(data_north['hardness'].mean(), \n",
    "                                                                         data_north['hardness'].std()/np.sqrt(len(data_north['hardness'])),\n",
    "                                                                       len(data_north['hardness']) - 1,\n",
    "                                                                       0.05, 'two-sided')"
   ]
  },
  {
   "cell_type": "code",
   "execution_count": 72,
   "metadata": {},
   "outputs": [
    {
     "data": {
      "text/plain": [
       "385.0"
      ]
     },
     "execution_count": 72,
     "metadata": {},
     "output_type": "execute_result"
    }
   ],
   "source": [
    "from scipy import stats\n",
    "np.ceil((stats.norm.ppf(1-0.05/2) / 0.1)**2)"
   ]
  },
  {
   "cell_type": "code",
   "execution_count": 73,
   "metadata": {},
   "outputs": [
    {
     "name": "stdout",
     "output_type": "stream",
     "text": [
      "1.959963984540054\n"
     ]
    }
   ],
   "source": [
    "print stats.norm.ppf(1-0.05/2)"
   ]
  }
 ],
 "metadata": {
  "kernelspec": {
   "display_name": "Python 2",
   "language": "python",
   "name": "python2"
  },
  "language_info": {
   "codemirror_mode": {
    "name": "ipython",
    "version": 2
   },
   "file_extension": ".py",
   "mimetype": "text/x-python",
   "name": "python",
   "nbconvert_exporter": "python",
   "pygments_lexer": "ipython2",
   "version": "2.7.14"
  }
 },
 "nbformat": 4,
 "nbformat_minor": 2
}

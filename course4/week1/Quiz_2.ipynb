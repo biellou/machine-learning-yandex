{
 "cells": [
  {
   "cell_type": "code",
   "execution_count": 17,
   "metadata": {},
   "outputs": [
    {
     "name": "stdout",
     "output_type": "stream",
     "text": [
      "normal_interval [-0.018805, 0.058805] with width 0.077611\n",
      "wilson_interval [0.003539, 0.104954] with width 0.101415\n"
     ]
    }
   ],
   "source": [
    "import numpy as np\n",
    "import pandas as pd\n",
    "import scipy\n",
    "from statsmodels.stats.proportion import proportion_confint\n",
    "\n",
    "normal_interval = proportion_confint(1, 50, method = 'normal')\n",
    "\n",
    "print 'normal_interval [%f, %f] with width %f' % (normal_interval[0],\n",
    "                                                  normal_interval[1], \n",
    "                                                  normal_interval[1] - normal_interval[0])\n",
    "\n",
    "wilson_interval = proportion_confint(1, 50, method = 'wilson')\n",
    "\n",
    "print 'wilson_interval [%f, %f] with width %f' % (wilson_interval[0],\n",
    "                                                  wilson_interval[1],\n",
    "                                                  wilson_interval[1] - wilson_interval[0])"
   ]
  },
  {
   "cell_type": "code",
   "execution_count": 10,
   "metadata": {},
   "outputs": [
    {
     "name": "stdout",
     "output_type": "stream",
     "text": [
      "753.0\n"
     ]
    }
   ],
   "source": [
    "z = scipy.stats.norm.ppf(1 - 0.05 / 2.)\n",
    "\n",
    "n = np.ceil((z**2)*(0.02 * 0.98)/(0.01**2))\n",
    "print n"
   ]
  },
  {
   "cell_type": "code",
   "execution_count": 35,
   "metadata": {
    "scrolled": true
   },
   "outputs": [
    {
     "data": {
      "image/png": "[encoded data removed]",
      "text/plain": [
       "<matplotlib.figure.Figure at 0x10e5eaed0>"
      ]
     },
     "metadata": {},
     "output_type": "display_data"
    }
   ],
   "source": [
    "n = []\n",
    "stat_val = np.arange(0.0, 1, 0.01)\n",
    "for p in stat_val:\n",
    "    #n.append(np.ceil((z**2)*(p * (1 - p))/(0.01**2)))\n",
    "    n.append(ceil(samplesize_confint_proportion(p, 0.01, method='normal')))\n",
    "\n",
    "import matplotlib.pyplot as plt\n",
    "plt.plot(n)\n",
    "plt.show()"
   ]
  },
  {
   "cell_type": "code",
   "execution_count": 34,
   "metadata": {},
   "outputs": [
    {
     "data": {
      "text/plain": [
       "9604.0"
      ]
     },
     "execution_count": 34,
     "metadata": {},
     "output_type": "execute_result"
    }
   ],
   "source": [
    "from statsmodels.stats.proportion import samplesize_confint_proportion\n",
    "from math import ceil\n",
    "ceil(samplesize_confint_proportion(0.5, 0.01, method='normal'))"
   ]
  }
 ],
 "metadata": {
  "kernelspec": {
   "display_name": "Python 2",
   "language": "python",
   "name": "python2"
  },
  "language_info": {
   "codemirror_mode": {
    "name": "ipython",
    "version": 2
   },
   "file_extension": ".py",
   "mimetype": "text/x-python",
   "name": "python",
   "nbconvert_exporter": "python",
   "pygments_lexer": "ipython2",
   "version": "2.7.14"
  }
 },
 "nbformat": 4,
 "nbformat_minor": 2
}

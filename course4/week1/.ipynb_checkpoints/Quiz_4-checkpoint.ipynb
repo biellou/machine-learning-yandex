{
 "cells": [
  {
   "cell_type": "code",
   "execution_count": 3,
   "metadata": {},
   "outputs": [
    {
     "data": {
      "text/plain": [
       "2.9677379253417944"
      ]
     },
     "execution_count": 3,
     "metadata": {},
     "output_type": "execute_result"
    }
   ],
   "source": [
    "import numpy as np\n",
    "import pandas as pd\n",
    "from scipy import stats\n",
    "\n",
    "stats.norm.ppf(1-0.003/2)"
   ]
  },
  {
   "cell_type": "code",
   "execution_count": 7,
   "metadata": {},
   "outputs": [
    {
     "name": "stdout",
     "output_type": "stream",
     "text": [
      "0.007706023976\n"
     ]
    }
   ],
   "source": [
    "p1 = 104.0 / 11037.0\n",
    "p2 = 189.0 / 11034.0\n",
    "prob = p2 - p1\n",
    "print prob"
   ]
  },
  {
   "cell_type": "code",
   "execution_count": 14,
   "metadata": {},
   "outputs": [
    {
     "name": "stdout",
     "output_type": "stream",
     "text": [
      "confidence interval: [0.004688, 0.010724]\n"
     ]
    }
   ],
   "source": [
    "alpha = 0.05\n",
    "z = stats.norm.ppf(1 - alpha / 2.)   \n",
    "p2 = float(104) / 11037\n",
    "p1 = float(189) / 11034\n",
    "    \n",
    "left_boundary = (p1 - p2) - z * np.sqrt(p1 * (1 - p1)/ 11034 + p2 * (1 - p2)/ 11037)\n",
    "right_boundary = (p1 - p2) + z * np.sqrt(p1 * (1 - p1)/ 11034 + p2 * (1 - p2)/ 11037)\n",
    "    \n",
    "\n",
    "print \"confidence interval: [%f, %f]\" % (left_boundary, right_boundary)"
   ]
  },
  {
   "cell_type": "code",
   "execution_count": 20,
   "metadata": {},
   "outputs": [
    {
     "name": "stdout",
     "output_type": "stream",
     "text": [
      "0.00951248513674 0.0174273858921 0.00791490075537 1.83205394191\n"
     ]
    }
   ],
   "source": [
    "p_asp = (104.0/11037.0)/(1 - 104.0/11037.0)\n",
    "p_plac = (189.0/11034.0)/(1 - 189.0/11034.0)\n",
    "print p_asp, p_plac, p_plac - p_asp, p_plac / p_asp"
   ]
  },
  {
   "cell_type": "code",
   "execution_count": 33,
   "metadata": {},
   "outputs": [
    {
     "data": {
      "text/plain": [
       "numpy.ndarray"
      ]
     },
     "execution_count": 33,
     "metadata": {},
     "output_type": "execute_result"
    }
   ],
   "source": []
  },
  {
   "cell_type": "code",
   "execution_count": 66,
   "metadata": {},
   "outputs": [
    {
     "name": "stdout",
     "output_type": "stream",
     "text": [
      "95% confidence interval for aspirin: [0.00757714 0.0113626 ]\n",
      "95% confidence interval for placebo: [0.01499402 0.01996672]\n",
      "95% confidence interval for the relation of chances [1.44419465 2.34321168]\n"
     ]
    }
   ],
   "source": [
    "asp_set = np.asarray([1] * 104 + [0] * (11037 - 104))\n",
    "plac_set = np.asarray([1] * 189 + [0] * (11034 - 189))\n",
    "\n",
    "np.random.seed(0)\n",
    "\n",
    "def get_bootstrap_samples(data, n_samples):\n",
    "    indices = np.random.randint(0, len(data), (n_samples, len(data)))\n",
    "    samples = data[indices]\n",
    "    return samples\n",
    "\n",
    "def chance_relations(stat):\n",
    "    length = 1000\n",
    "    relat = float(sum(stat))/float( len(stat))/(1 - float(sum(stat))/float( len(stat)))\n",
    "    #print float(sum(stat))/float( len(stat))\n",
    "    return relat\n",
    "\n",
    "def stat_intervals(stat, alpha):\n",
    "    boundaries = np.percentile(stat, [100 * alpha / 2., 100 * (1 - alpha / 2.)])\n",
    "    return boundaries\n",
    "\n",
    "asp_chance_relations = map(chance_relations, get_bootstrap_samples(asp_set, 1000))\n",
    "plac_chance_relations = map(chance_relations, get_bootstrap_samples(plac_set, 1000))\n",
    "\n",
    "print \"95% confidence interval for aspirin:\",  stat_intervals(asp_chance_relations, 0.05)\n",
    "print \"95% confidence interval for placebo:\",  stat_intervals(plac_chance_relations, 0.05)\n",
    "\n",
    "chance_rel_score = map(lambda x: x[1] / x[0], zip(asp_chance_relations, plac_chance_relations))\n",
    "\n",
    "print \"95% confidence interval for the relation of chances\",  stat_intervals(chance_rel_score, 0.05)"
   ]
  }
 ],
 "metadata": {
  "kernelspec": {
   "display_name": "Python 2",
   "language": "python",
   "name": "python2"
  },
  "language_info": {
   "codemirror_mode": {
    "name": "ipython",
    "version": 2
   },
   "file_extension": ".py",
   "mimetype": "text/x-python",
   "name": "python",
   "nbconvert_exporter": "python",
   "pygments_lexer": "ipython2",
   "version": "2.7.14"
  }
 },
 "nbformat": 4,
 "nbformat_minor": 2
}

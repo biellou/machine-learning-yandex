{
 "cells": [
  {
   "cell_type": "code",
   "execution_count": 1,
   "metadata": {},
   "outputs": [],
   "source": [
    "import numpy as np\n",
    "import pandas as pd\n",
    "from scipy import stats\n",
    "from statsmodels.stats.proportion import proportion_confint"
   ]
  },
  {
   "cell_type": "code",
   "execution_count": 2,
   "metadata": {},
   "outputs": [
    {
     "data": {
      "text/plain": [
       "0.08222258891386608"
      ]
     },
     "execution_count": 2,
     "metadata": {},
     "output_type": "execute_result"
    }
   ],
   "source": [
    "stats.binom_test(67, 100, 0.75, alternative = 'two-sided')"
   ]
  },
  {
   "cell_type": "code",
   "execution_count": 3,
   "metadata": {},
   "outputs": [
    {
     "data": {
      "text/plain": [
       "3.4831478978300243e-06"
      ]
     },
     "execution_count": 3,
     "metadata": {},
     "output_type": "execute_result"
    }
   ],
   "source": [
    "stats.binom_test(22, 50, 0.75, alternative = 'two-sided')"
   ]
  },
  {
   "cell_type": "code",
   "execution_count": 4,
   "metadata": {},
   "outputs": [
    {
     "name": "stdout",
     "output_type": "stream",
     "text": [
      "23.36\n",
      "Power_divergenceResult(statistic=array([150.5890411]), pvalue=array([2.57466977e-20]))\n"
     ]
    },
    {
     "name": "stderr",
     "output_type": "stream",
     "text": [
      "/anaconda2/lib/python2.7/site-packages/scipy/stats/_binned_statistic.py:607: FutureWarning: Using a non-tuple sequence for multidimensional indexing is deprecated; use `arr[tuple(seq)]` instead of `arr[seq]`. In the future this will be interpreted as an array index, `arr[np.array(seq)]`, which will result either in an error or a different result.\n",
      "  result = result[core]\n"
     ]
    }
   ],
   "source": [
    "data = pd.read_csv('pines.txt', header=0, sep='\\t')\n",
    "clust = stats.binned_statistic_2d(data.sn, data.we, np.ones(data.shape[0]), 'count', bins=5)\n",
    "freq = np.reshape(clust.statistic, (25, 1))\n",
    "print clust[0].mean()\n",
    "\n",
    "print stats.chisquare(freq)\n"
   ]
  },
  {
   "cell_type": "code",
   "execution_count": 8,
   "metadata": {},
   "outputs": [
    {
     "data": {
      "text/plain": [
       "584"
      ]
     },
     "execution_count": 8,
     "metadata": {},
     "output_type": "execute_result"
    }
   ],
   "source": [
    "data.shape[0]"
   ]
  },
  {
   "cell_type": "code",
   "execution_count": 5,
   "metadata": {},
   "outputs": [
    {
     "data": {
      "text/html": [
       "<div>\n",
       "<style scoped>\n",
       "    .dataframe tbody tr th:only-of-type {\n",
       "        vertical-align: middle;\n",
       "    }\n",
       "\n",
       "    .dataframe tbody tr th {\n",
       "        vertical-align: top;\n",
       "    }\n",
       "\n",
       "    .dataframe thead th {\n",
       "        text-align: right;\n",
       "    }\n",
       "</style>\n",
       "<table border=\"1\" class=\"dataframe\">\n",
       "  <thead>\n",
       "    <tr style=\"text-align: right;\">\n",
       "      <th></th>\n",
       "      <th>sn</th>\n",
       "      <th>we</th>\n",
       "    </tr>\n",
       "  </thead>\n",
       "  <tbody>\n",
       "    <tr>\n",
       "      <th>0</th>\n",
       "      <td>200.0</td>\n",
       "      <td>8.8</td>\n",
       "    </tr>\n",
       "    <tr>\n",
       "      <th>1</th>\n",
       "      <td>199.3</td>\n",
       "      <td>10.0</td>\n",
       "    </tr>\n",
       "    <tr>\n",
       "      <th>2</th>\n",
       "      <td>193.6</td>\n",
       "      <td>22.4</td>\n",
       "    </tr>\n",
       "    <tr>\n",
       "      <th>3</th>\n",
       "      <td>167.7</td>\n",
       "      <td>35.6</td>\n",
       "    </tr>\n",
       "    <tr>\n",
       "      <th>4</th>\n",
       "      <td>183.9</td>\n",
       "      <td>45.4</td>\n",
       "    </tr>\n",
       "  </tbody>\n",
       "</table>\n",
       "</div>"
      ],
      "text/plain": [
       "      sn    we\n",
       "0  200.0   8.8\n",
       "1  199.3  10.0\n",
       "2  193.6  22.4\n",
       "3  167.7  35.6\n",
       "4  183.9  45.4"
      ]
     },
     "execution_count": 5,
     "metadata": {},
     "output_type": "execute_result"
    }
   ],
   "source": [
    "data.head()"
   ]
  },
  {
   "cell_type": "code",
   "execution_count": 6,
   "metadata": {},
   "outputs": [
    {
     "data": {
      "text/plain": [
       "BinnedStatistic2dResult(statistic=array([[18., 26., 29., 25., 20.],\n",
       "       [14., 12., 22., 34., 25.],\n",
       "       [12., 24., 15., 50., 37.],\n",
       "       [ 8., 19., 31., 50.,  7.],\n",
       "       [ 7.,  8., 37., 27., 27.]]), x_edge=array([  0.,  40.,  80., 120., 160., 200.]), y_edge=array([  0.,  40.,  80., 120., 160., 200.]), binnumber=array([36, 36, 36, 36, 37, 37, 37, 37, 36, 36, 36, 29, 30, 29, 30, 29, 29,\n",
       "       29, 29, 29, 22, 22, 22, 22, 22, 29, 30, 30, 23, 23, 22,  8,  8,  8,\n",
       "        8,  8,  8,  8, 15, 15,  8, 15, 15,  9,  9,  9,  9,  9,  9,  9,  9,\n",
       "        8,  8,  9,  9,  9,  8,  8,  8,  8,  9,  9, 16, 16, 17, 16, 17, 17,\n",
       "       17,  9,  9,  9,  9, 10, 10, 10, 10, 10, 10, 17, 17, 10, 10, 10, 10,\n",
       "       10, 10, 10, 24, 24, 23, 23, 23, 23, 24, 23, 23, 23, 23, 23, 23, 23,\n",
       "       23, 23, 23, 30, 23, 23, 23, 23, 30, 30, 23, 23, 30, 30, 31, 30, 30,\n",
       "       30, 22, 22, 22, 15, 22, 22, 22, 15, 15, 16, 16, 15, 15, 15, 15, 15,\n",
       "       15, 15, 38, 38, 38, 38, 38, 38, 38, 38, 38, 38, 38, 38,  8,  8,  8,\n",
       "        8,  9,  9, 10, 10, 10,  9,  9,  9,  9, 10,  9,  9,  9, 10, 39, 39,\n",
       "       39, 39, 39, 39, 39, 38, 38, 39, 38, 39, 24, 17, 17, 17, 17, 17, 17,\n",
       "       17, 17, 16, 16, 16, 16, 16, 16, 16, 23, 23, 32, 32, 32, 32, 32, 31,\n",
       "       31, 32, 32, 32, 31, 32, 30, 30, 30, 31, 31, 31, 31, 31, 31, 31, 31,\n",
       "       38, 38, 38, 38, 38, 38, 38, 25, 25, 25, 25, 32, 32, 32, 25, 25, 32,\n",
       "       32, 32, 38, 38, 38, 38, 38, 38, 38, 38, 38, 38, 38, 38, 38, 31, 31,\n",
       "       31, 31, 31, 37, 31, 31, 30, 30, 30, 37, 30, 37, 37, 38, 32, 32, 38,\n",
       "       31, 31, 31, 31, 32, 32, 39, 39, 39, 39, 32, 39, 39, 39, 32, 39, 39,\n",
       "       32, 32, 32, 32, 32, 32, 32, 32, 32, 32, 32, 32, 32, 31, 31, 24, 31,\n",
       "       31, 31, 31, 24, 24, 24, 25, 25, 25, 25, 25, 25, 24, 24, 25, 24, 25,\n",
       "       25, 25, 25, 25, 25, 25, 25, 25, 25, 25, 32, 32, 32, 25, 25, 18, 18,\n",
       "       18, 18, 18, 18, 18, 18, 25, 25, 25, 25, 25, 25, 25, 24, 24, 24, 25,\n",
       "       24, 25, 17, 17, 17, 17, 18, 32, 32, 39, 39, 39, 39, 39, 39, 18, 18,\n",
       "       18, 18, 18, 18, 18, 18, 18, 18, 17, 18, 11, 18, 11, 11, 11, 11, 17,\n",
       "       10, 10, 32, 32, 32, 32, 32, 31, 31, 32, 11, 12, 12, 11, 12, 12, 12,\n",
       "       12, 12, 12, 12, 12, 19, 12, 12, 12, 12, 12, 12, 12, 12, 25, 25, 25,\n",
       "       25, 25, 25, 25, 25, 26, 26, 26, 25, 26, 26, 26, 26, 25, 19, 19, 19,\n",
       "       19, 26, 19, 19, 26, 19, 19, 25, 18, 17, 18, 18, 17, 18, 18, 18, 18,\n",
       "       32, 33, 40, 40, 40, 40, 40, 40, 40, 40, 40, 40, 40, 40, 40, 40, 40,\n",
       "       40, 40, 40, 40, 10, 10, 10, 10, 10, 10, 11, 11, 11, 10, 10, 10, 11,\n",
       "       11, 11, 11, 11, 11, 11, 11, 11, 11, 11, 12, 12, 11, 11, 11, 18, 11,\n",
       "       19, 19, 19, 19, 19, 19, 19, 18, 19, 19, 19, 19, 19, 19, 19, 19, 26,\n",
       "       19, 26, 26, 26, 26, 26, 26, 26, 26, 25, 26, 26, 26, 18, 18, 18, 18,\n",
       "       25, 25, 26, 25, 26, 26, 26, 26, 26, 26, 26, 26, 26, 26, 26, 26, 26,\n",
       "       33, 33, 33, 26, 33, 32, 32, 33, 33, 40, 40, 40, 40, 40, 40, 39, 39,\n",
       "       40, 40, 39, 32, 32, 26]))"
      ]
     },
     "execution_count": 6,
     "metadata": {},
     "output_type": "execute_result"
    }
   ],
   "source": [
    "clust"
   ]
  }
 ],
 "metadata": {
  "kernelspec": {
   "display_name": "Python 2",
   "language": "python",
   "name": "python2"
  },
  "language_info": {
   "codemirror_mode": {
    "name": "ipython",
    "version": 2
   },
   "file_extension": ".py",
   "mimetype": "text/x-python",
   "name": "python",
   "nbconvert_exporter": "python",
   "pygments_lexer": "ipython2",
   "version": "2.7.15"
  }
 },
 "nbformat": 4,
 "nbformat_minor": 2
}

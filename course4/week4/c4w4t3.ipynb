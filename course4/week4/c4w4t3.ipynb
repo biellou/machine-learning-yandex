{
 "cells": [
  {
   "cell_type": "code",
   "execution_count": 1,
   "metadata": {
    "collapsed": true
   },
   "outputs": [],
   "source": [
    "import pandas as pd\n",
    "import numpy as np\n",
    "import scipy\n",
    "import matplotlib.pyplot as plt\n",
    "from statsmodels.stats.weightstats import *\n",
    "from statsmodels.stats.proportion import proportion_confint"
   ]
  },
  {
   "cell_type": "code",
   "execution_count": 2,
   "metadata": {},
   "outputs": [
    {
     "data": {
      "text/html": [
       "<div>\n",
       "<style scoped>\n",
       "    .dataframe tbody tr th:only-of-type {\n",
       "        vertical-align: middle;\n",
       "    }\n",
       "\n",
       "    .dataframe tbody tr th {\n",
       "        vertical-align: top;\n",
       "    }\n",
       "\n",
       "    .dataframe thead th {\n",
       "        text-align: right;\n",
       "    }\n",
       "</style>\n",
       "<table border=\"1\" class=\"dataframe\">\n",
       "  <thead>\n",
       "    <tr style=\"text-align: right;\">\n",
       "      <th></th>\n",
       "      <th>userID</th>\n",
       "      <th>browser</th>\n",
       "      <th>slot</th>\n",
       "      <th>n_clicks</th>\n",
       "      <th>n_queries</th>\n",
       "      <th>n_nonclk_queries</th>\n",
       "    </tr>\n",
       "  </thead>\n",
       "  <tbody>\n",
       "    <tr>\n",
       "      <th>0</th>\n",
       "      <td>1</td>\n",
       "      <td>Browser #2</td>\n",
       "      <td>exp</td>\n",
       "      <td>23</td>\n",
       "      <td>32</td>\n",
       "      <td>19</td>\n",
       "    </tr>\n",
       "    <tr>\n",
       "      <th>1</th>\n",
       "      <td>3</td>\n",
       "      <td>Browser #4</td>\n",
       "      <td>exp</td>\n",
       "      <td>3</td>\n",
       "      <td>4</td>\n",
       "      <td>2</td>\n",
       "    </tr>\n",
       "    <tr>\n",
       "      <th>2</th>\n",
       "      <td>5</td>\n",
       "      <td>Browser #4</td>\n",
       "      <td>exp</td>\n",
       "      <td>29</td>\n",
       "      <td>35</td>\n",
       "      <td>16</td>\n",
       "    </tr>\n",
       "    <tr>\n",
       "      <th>3</th>\n",
       "      <td>6</td>\n",
       "      <td>Browser #4</td>\n",
       "      <td>control</td>\n",
       "      <td>12</td>\n",
       "      <td>6</td>\n",
       "      <td>0</td>\n",
       "    </tr>\n",
       "    <tr>\n",
       "      <th>4</th>\n",
       "      <td>7</td>\n",
       "      <td>Browser #4</td>\n",
       "      <td>exp</td>\n",
       "      <td>54</td>\n",
       "      <td>68</td>\n",
       "      <td>30</td>\n",
       "    </tr>\n",
       "  </tbody>\n",
       "</table>\n",
       "</div>"
      ],
      "text/plain": [
       "   userID     browser     slot  n_clicks  n_queries  n_nonclk_queries\n",
       "0       1  Browser #2      exp        23         32                19\n",
       "1       3  Browser #4      exp         3          4                 2\n",
       "2       5  Browser #4      exp        29         35                16\n",
       "3       6  Browser #4  control        12          6                 0\n",
       "4       7  Browser #4      exp        54         68                30"
      ]
     },
     "execution_count": 2,
     "metadata": {},
     "output_type": "execute_result"
    }
   ],
   "source": [
    "ab_test = pd.read_csv(\"ab_browser_test.csv\", sep = \",\", header = 0)\n",
    "ab_test.head()"
   ]
  },
  {
   "cell_type": "code",
   "execution_count": 3,
   "metadata": {},
   "outputs": [
    {
     "data": {
      "text/plain": [
       "7.494280770883179"
      ]
     },
     "execution_count": 3,
     "metadata": {},
     "output_type": "execute_result"
    }
   ],
   "source": [
    "ab_test_exp = ab_test[ab_test[\"slot\"] == \"exp\"]\n",
    "ab_test_ctr = ab_test[ab_test[\"slot\"] == \"control\"]\n",
    "\n",
    "clicks_per_query_exp = map(lambda x: float(x[0])/float(x[1]), zip(ab_test_exp['n_clicks'],ab_test_exp['n_queries']))\n",
    "clicks_per_query_ctr = map(lambda x: float(x[0])/float(x[1]), zip(ab_test_ctr['n_clicks'],ab_test_ctr['n_queries']))\n",
    "clicks_exp_avg = reduce(lambda x, y: x + y, clicks_per_query_exp) / len(clicks_per_query_exp)\n",
    "clicks_ctr_avg = reduce(lambda x, y: x + y, clicks_per_query_ctr) / len(clicks_per_query_ctr)\n",
    "\n",
    "clicks_proportion = 100*(clicks_exp_avg)/ (clicks_ctr_avg) - 100\n",
    "clicks_proportion"
   ]
  },
  {
   "cell_type": "code",
   "execution_count": 77,
   "metadata": {},
   "outputs": [
    {
     "data": {
      "text/plain": [
       "1.614"
      ]
     },
     "execution_count": 77,
     "metadata": {},
     "output_type": "execute_result"
    }
   ],
   "source": [
    "clicks_proportion = (sum(ab_test_exp['n_clicks']))*1.0/ (sum(ab_test_ctr['n_clicks']))\n",
    "round((clicks_proportion - 1)*100 , 3)"
   ]
  },
  {
   "cell_type": "code",
   "execution_count": 80,
   "metadata": {},
   "outputs": [
    {
     "name": "stdout",
     "output_type": "stream",
     "text": [
      "доверительный интервал для разницы медиан:  [-1. -1.]\n"
     ]
    }
   ],
   "source": [
    "def get_bootstrap_samples(data, n_samples):\n",
    "    indices = np.random.randint(0, len(data), (n_samples, len(data))) \n",
    "    samples = data[indices]\n",
    "    return samples\n",
    "\n",
    "def stat_intervals(stat, alpha):\n",
    "    boundaries = np.percentile(stat, [100 * alpha / 2., 100 * (1 - alpha / 2.)])\n",
    "    return boundaries\n",
    "\n",
    "\n",
    "np.random.seed(0)\n",
    "\n",
    "clicks_exp_median = map(np.median, get_bootstrap_samples(np.asarray(ab_test_exp['n_clicks']), 500))\n",
    "clicks_ctr_median = map(np.median, get_bootstrap_samples(np.asarray(ab_test_ctr['n_clicks']), 500))\n",
    "\n",
    "delta_median_scores = map(lambda x: x[1] - x[0], zip(clicks_per_query_exp_median,\n",
    "                                                     clicks_per_query_ctr_median))\n",
    "print 'доверительный интервал для разницы медиан: ',  stat_intervals(delta_median_scores, 0.05)"
   ]
  },
  {
   "cell_type": "code",
   "execution_count": 81,
   "metadata": {},
   "outputs": [
    {
     "name": "stdout",
     "output_type": "stream",
     "text": [
      "доверительный интервал для разницы cредних:  [-0.40319088 -0.19269246]\n"
     ]
    }
   ],
   "source": [
    "clicks_exp_mean = map(np.mean, get_bootstrap_samples(np.asarray(ab_test_exp['n_clicks']), 300))\n",
    "clicks_ctr_mean = map(np.mean, get_bootstrap_samples(np.asarray(ab_test_ctr['n_clicks']), 300))\n",
    "\n",
    "delta_mean_scores = map(lambda x: x[1] - x[0], zip(clicks_per_query_exp_mean,\n",
    "                                                     clicks_per_query_ctr_mean))\n",
    "print 'доверительный интервал для разницы cредних: ',  stat_intervals(delta_mean_scores, 0.05)"
   ]
  },
  {
   "cell_type": "code",
   "execution_count": 23,
   "metadata": {
    "collapsed": true
   },
   "outputs": [],
   "source": [
    "np.random.seed(0)\n",
    "n_boot_samples = 500"
   ]
  },
  {
   "cell_type": "code",
   "execution_count": 24,
   "metadata": {
    "collapsed": true
   },
   "outputs": [],
   "source": [
    "n_boot_samples = get_bootstrap_samples(np.asarray(clicks_per_query_ctr), n_boot_samples)"
   ]
  },
  {
   "cell_type": "code",
   "execution_count": 25,
   "metadata": {
    "collapsed": true
   },
   "outputs": [],
   "source": [
    "control_boot_mean = np.mean(n_boot_samples, axis = 1)\n",
    "control_boot_chi_squared = np.var(n_boot_samples, axis = 1)"
   ]
  },
  {
   "cell_type": "code",
   "execution_count": 38,
   "metadata": {},
   "outputs": [
    {
     "data": {
      "image/png": "[encoded data removed]",
      "text/plain": [
       "<matplotlib.figure.Figure at 0x10d4fa7d0>"
      ]
     },
     "metadata": {},
     "output_type": "display_data"
    },
    {
     "data": {
      "text/plain": [
       "0.9971568611748132"
      ]
     },
     "execution_count": 38,
     "metadata": {},
     "output_type": "execute_result"
    }
   ],
   "source": [
    "stats.probplot(control_boot_mean, dist=\"norm\", plot=plt)\n",
    "plt.show()\n",
    "res1, res2 = stats.probplot(control_boot_mean, dist=\"norm\", plot=plt)\n",
    "res2[2]**2"
   ]
  },
  {
   "cell_type": "code",
   "execution_count": 37,
   "metadata": {},
   "outputs": [
    {
     "data": {
      "image/png": "[encoded data removed]",
      "text/plain": [
       "<matplotlib.figure.Figure at 0x10bad64d0>"
      ]
     },
     "metadata": {},
     "output_type": "display_data"
    },
    {
     "data": {
      "text/plain": [
       "0.9931762067744013"
      ]
     },
     "execution_count": 37,
     "metadata": {},
     "output_type": "execute_result"
    }
   ],
   "source": [
    "scipy.stats.probplot(control_boot_chi_squared, dist=\"chi2\", sparams=(499), plot=plt)\n",
    "plt.show()\n",
    "res1, res2 = scipy.stats.probplot(control_boot_chi_squared, dist=\"chi2\", sparams=(499), plot=plt)\n",
    "res2[2]**2"
   ]
  },
  {
   "cell_type": "code",
   "execution_count": 48,
   "metadata": {},
   "outputs": [],
   "source": [
    "ab_test_exp_by_user = ab_test_exp.groupby(by='userID')['n_clicks'].agg(np.sum)\n",
    "ab_test_ctr_by_user = ab_test_ctr.groupby(by='userID')['n_clicks'].agg(np.sum)"
   ]
  },
  {
   "cell_type": "code",
   "execution_count": 54,
   "metadata": {},
   "outputs": [
    {
     "data": {
      "text/plain": [
       "4.3471471887604393e-75"
      ]
     },
     "execution_count": 54,
     "metadata": {},
     "output_type": "execute_result"
    }
   ],
   "source": [
    "stats.mannwhitneyu(ab_test_exp_by_user, ab_test_ctr_by_user)"
   ]
  },
  {
   "cell_type": "code",
   "execution_count": 52,
   "metadata": {},
   "outputs": [],
   "source": [
    "browsers = ab_test.browser.unique()"
   ]
  },
  {
   "cell_type": "code",
   "execution_count": 65,
   "metadata": {},
   "outputs": [
    {
     "name": "stdout",
     "output_type": "stream",
     "text": [
      "0.0272438604197241\n",
      "0.40760617658454984\n",
      "0.0\n",
      "0.03740060143010802\n",
      "0.45366656388735377\n",
      "0.2574055152210032\n"
     ]
    }
   ],
   "source": [
    "from statsmodels.sandbox.stats.multicomp import multipletests \n",
    "\n",
    "pvalues = []\n",
    "for br in browsers:\n",
    "    ab_test_exp_br = ab_test_exp[ab_test_exp['browser'] == br]\n",
    "    ab_test_ctr_br = ab_test_ctr[ab_test_ctr['browser'] == br]\n",
    "    pval = stats.mannwhitneyu(ab_test_exp_br['n_clicks'], ab_test_ctr_br['n_clicks']).pvalue\n",
    "    pvalues.append(pval)\n",
    "    print stats.mannwhitneyu(ab_test_exp_br['n_clicks'], ab_test_ctr_br['n_clicks']).pvalue\n",
    "\n",
    "reject, p_corrected, a1, a2 = multipletests(pvalues, alpha = 0.05, method = 'holm')\n",
    "    "
   ]
  },
  {
   "cell_type": "code",
   "execution_count": 66,
   "metadata": {},
   "outputs": [
    {
     "data": {
      "text/plain": [
       "array([False, False,  True, False, False, False])"
      ]
     },
     "execution_count": 66,
     "metadata": {},
     "output_type": "execute_result"
    }
   ],
   "source": [
    "reject"
   ]
  },
  {
   "cell_type": "code",
   "execution_count": 70,
   "metadata": {},
   "outputs": [
    {
     "data": {
      "text/plain": [
       "[[0.4353532695557883, 0.4596274717919465],\n",
       " [0.43035490223620365, 0.4697092963514274],\n",
       " [0.44163172594089956, 0.5759041136008114],\n",
       " [0.37149927484551576, 0.36299366746282086],\n",
       " [0.3767599818324456, 0.4054048474338329],\n",
       " [0.38111396346838067, 0.40593976593513353]]"
      ]
     },
     "execution_count": 70,
     "metadata": {},
     "output_type": "execute_result"
    }
   ],
   "source": [
    "percent = []\n",
    "for br in browsers:\n",
    "    ab_test_exp_br = ab_test_exp[ab_test_exp['browser'] == br]\n",
    "    ab_test_ctr_br = ab_test_ctr[ab_test_ctr['browser'] == br]\n",
    "    nonclick_proportion_ctr = float(sum(ab_test_ctr_br.n_nonclk_queries)) / float(sum(ab_test_ctr_br.n_queries))\n",
    "    nonclick_proportion_exp = float(sum(ab_test_exp_br.n_nonclk_queries)) / float(sum(ab_test_ctr_br.n_queries))\n",
    "    percent.append([nonclick_proportion_exp, nonclick_proportion_ctr])\n",
    "\n",
    "percent"
   ]
  }
 ],
 "metadata": {
  "kernelspec": {
   "display_name": "Python 2",
   "language": "python",
   "name": "python2"
  },
  "language_info": {
   "codemirror_mode": {
    "name": "ipython",
    "version": 2
   },
   "file_extension": ".py",
   "mimetype": "text/x-python",
   "name": "python",
   "nbconvert_exporter": "python",
   "pygments_lexer": "ipython2",
   "version": "2.7.14"
  }
 },
 "nbformat": 4,
 "nbformat_minor": 2
}

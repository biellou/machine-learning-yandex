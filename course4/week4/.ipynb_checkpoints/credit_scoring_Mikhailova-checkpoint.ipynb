{
 "cells": [
  {
   "cell_type": "code",
   "execution_count": 1,
   "metadata": {
    "collapsed": true
   },
   "outputs": [],
   "source": [
    "import pandas as pd\n",
    "import scipy as sc\n",
    "from statsmodels.stats.weightstats import _tconfint_generic\n",
    "from matplotlib import pyplot as plt\n",
    "import numpy as np"
   ]
  },
  {
   "cell_type": "code",
   "execution_count": 2,
   "metadata": {},
   "outputs": [
    {
     "name": "stdout",
     "output_type": "stream",
     "text": [
      "Populating the interactive namespace from numpy and matplotlib\n"
     ]
    }
   ],
   "source": [
    "%pylab inline"
   ]
  },
  {
   "cell_type": "code",
   "execution_count": 3,
   "metadata": {
    "collapsed": true
   },
   "outputs": [],
   "source": [
    "data = pd.read_csv('credit_card_default_analysis.csv')"
   ]
  },
  {
   "cell_type": "code",
   "execution_count": 4,
   "metadata": {},
   "outputs": [
    {
     "data": {
      "text/html": [
       "<div>\n",
       "<style scoped>\n",
       "    .dataframe tbody tr th:only-of-type {\n",
       "        vertical-align: middle;\n",
       "    }\n",
       "\n",
       "    .dataframe tbody tr th {\n",
       "        vertical-align: top;\n",
       "    }\n",
       "\n",
       "    .dataframe thead th {\n",
       "        text-align: right;\n",
       "    }\n",
       "</style>\n",
       "<table border=\"1\" class=\"dataframe\">\n",
       "  <thead>\n",
       "    <tr style=\"text-align: right;\">\n",
       "      <th></th>\n",
       "      <th>ID</th>\n",
       "      <th>LIMIT_BAL</th>\n",
       "      <th>SEX</th>\n",
       "      <th>EDUCATION</th>\n",
       "      <th>MARRIAGE</th>\n",
       "      <th>AGE</th>\n",
       "      <th>PAY_0</th>\n",
       "      <th>PAY_2</th>\n",
       "      <th>PAY_3</th>\n",
       "      <th>PAY_4</th>\n",
       "      <th>...</th>\n",
       "      <th>BILL_AMT4</th>\n",
       "      <th>BILL_AMT5</th>\n",
       "      <th>BILL_AMT6</th>\n",
       "      <th>PAY_AMT1</th>\n",
       "      <th>PAY_AMT2</th>\n",
       "      <th>PAY_AMT3</th>\n",
       "      <th>PAY_AMT4</th>\n",
       "      <th>PAY_AMT5</th>\n",
       "      <th>PAY_AMT6</th>\n",
       "      <th>default</th>\n",
       "    </tr>\n",
       "  </thead>\n",
       "  <tbody>\n",
       "    <tr>\n",
       "      <th>0</th>\n",
       "      <td>1</td>\n",
       "      <td>20000</td>\n",
       "      <td>2</td>\n",
       "      <td>2</td>\n",
       "      <td>1</td>\n",
       "      <td>24</td>\n",
       "      <td>2</td>\n",
       "      <td>2</td>\n",
       "      <td>0</td>\n",
       "      <td>0</td>\n",
       "      <td>...</td>\n",
       "      <td>0</td>\n",
       "      <td>0</td>\n",
       "      <td>0</td>\n",
       "      <td>0</td>\n",
       "      <td>689</td>\n",
       "      <td>0</td>\n",
       "      <td>0</td>\n",
       "      <td>0</td>\n",
       "      <td>0</td>\n",
       "      <td>1</td>\n",
       "    </tr>\n",
       "    <tr>\n",
       "      <th>1</th>\n",
       "      <td>2</td>\n",
       "      <td>120000</td>\n",
       "      <td>2</td>\n",
       "      <td>2</td>\n",
       "      <td>2</td>\n",
       "      <td>26</td>\n",
       "      <td>0</td>\n",
       "      <td>2</td>\n",
       "      <td>0</td>\n",
       "      <td>0</td>\n",
       "      <td>...</td>\n",
       "      <td>3272</td>\n",
       "      <td>3455</td>\n",
       "      <td>3261</td>\n",
       "      <td>0</td>\n",
       "      <td>1000</td>\n",
       "      <td>1000</td>\n",
       "      <td>1000</td>\n",
       "      <td>0</td>\n",
       "      <td>2000</td>\n",
       "      <td>1</td>\n",
       "    </tr>\n",
       "    <tr>\n",
       "      <th>2</th>\n",
       "      <td>3</td>\n",
       "      <td>90000</td>\n",
       "      <td>2</td>\n",
       "      <td>2</td>\n",
       "      <td>2</td>\n",
       "      <td>34</td>\n",
       "      <td>0</td>\n",
       "      <td>0</td>\n",
       "      <td>0</td>\n",
       "      <td>0</td>\n",
       "      <td>...</td>\n",
       "      <td>14331</td>\n",
       "      <td>14948</td>\n",
       "      <td>15549</td>\n",
       "      <td>1518</td>\n",
       "      <td>1500</td>\n",
       "      <td>1000</td>\n",
       "      <td>1000</td>\n",
       "      <td>1000</td>\n",
       "      <td>5000</td>\n",
       "      <td>0</td>\n",
       "    </tr>\n",
       "    <tr>\n",
       "      <th>3</th>\n",
       "      <td>4</td>\n",
       "      <td>50000</td>\n",
       "      <td>2</td>\n",
       "      <td>2</td>\n",
       "      <td>1</td>\n",
       "      <td>37</td>\n",
       "      <td>0</td>\n",
       "      <td>0</td>\n",
       "      <td>0</td>\n",
       "      <td>0</td>\n",
       "      <td>...</td>\n",
       "      <td>28314</td>\n",
       "      <td>28959</td>\n",
       "      <td>29547</td>\n",
       "      <td>2000</td>\n",
       "      <td>2019</td>\n",
       "      <td>1200</td>\n",
       "      <td>1100</td>\n",
       "      <td>1069</td>\n",
       "      <td>1000</td>\n",
       "      <td>0</td>\n",
       "    </tr>\n",
       "    <tr>\n",
       "      <th>4</th>\n",
       "      <td>5</td>\n",
       "      <td>50000</td>\n",
       "      <td>1</td>\n",
       "      <td>2</td>\n",
       "      <td>1</td>\n",
       "      <td>57</td>\n",
       "      <td>0</td>\n",
       "      <td>0</td>\n",
       "      <td>0</td>\n",
       "      <td>0</td>\n",
       "      <td>...</td>\n",
       "      <td>20940</td>\n",
       "      <td>19146</td>\n",
       "      <td>19131</td>\n",
       "      <td>2000</td>\n",
       "      <td>36681</td>\n",
       "      <td>10000</td>\n",
       "      <td>9000</td>\n",
       "      <td>689</td>\n",
       "      <td>679</td>\n",
       "      <td>0</td>\n",
       "    </tr>\n",
       "  </tbody>\n",
       "</table>\n",
       "<p>5 rows × 25 columns</p>\n",
       "</div>"
      ],
      "text/plain": [
       "   ID  LIMIT_BAL  SEX  EDUCATION  MARRIAGE  AGE  PAY_0  PAY_2  PAY_3  PAY_4  \\\n",
       "0   1      20000    2          2         1   24      2      2      0      0   \n",
       "1   2     120000    2          2         2   26      0      2      0      0   \n",
       "2   3      90000    2          2         2   34      0      0      0      0   \n",
       "3   4      50000    2          2         1   37      0      0      0      0   \n",
       "4   5      50000    1          2         1   57      0      0      0      0   \n",
       "\n",
       "    ...     BILL_AMT4  BILL_AMT5  BILL_AMT6  PAY_AMT1  PAY_AMT2  PAY_AMT3  \\\n",
       "0   ...             0          0          0         0       689         0   \n",
       "1   ...          3272       3455       3261         0      1000      1000   \n",
       "2   ...         14331      14948      15549      1518      1500      1000   \n",
       "3   ...         28314      28959      29547      2000      2019      1200   \n",
       "4   ...         20940      19146      19131      2000     36681     10000   \n",
       "\n",
       "   PAY_AMT4  PAY_AMT5  PAY_AMT6  default  \n",
       "0         0         0         0        1  \n",
       "1      1000         0      2000        1  \n",
       "2      1000      1000      5000        0  \n",
       "3      1100      1069      1000        0  \n",
       "4      9000       689       679        0  \n",
       "\n",
       "[5 rows x 25 columns]"
      ]
     },
     "execution_count": 4,
     "metadata": {},
     "output_type": "execute_result"
    }
   ],
   "source": [
    "data.head()"
   ]
  },
  {
   "cell_type": "code",
   "execution_count": 91,
   "metadata": {},
   "outputs": [
    {
     "data": {
      "text/plain": [
       "(30000, 25)"
      ]
     },
     "execution_count": 91,
     "metadata": {},
     "output_type": "execute_result"
    }
   ],
   "source": [
    "data.shape"
   ]
  },
  {
   "cell_type": "markdown",
   "metadata": {},
   "source": [
    "Размер кредитного лимита (LIMIT_BAL). В двух группах, тех людей, кто вернул кредит (default = 0) и тех, кто его не вернул (default = 1) проверьте гипотезы: a) о равенстве медианных значений кредитного лимита с помощью подходящей интервальной оценки b) о равенстве распределений с помощью одного из подходящих непараметрических критериев проверки равенства средних. Значимы ли полученные результаты с практической точки зрения ?"
   ]
  },
  {
   "cell_type": "code",
   "execution_count": 5,
   "metadata": {
    "collapsed": true
   },
   "outputs": [],
   "source": [
    "default_1 = data[data['default']==1].reset_index()\n",
    "default_0 = data[data['default']==0].reset_index()"
   ]
  },
  {
   "cell_type": "code",
   "execution_count": 6,
   "metadata": {},
   "outputs": [
    {
     "data": {
      "text/plain": [
       "Text(0.5,1,u'limit for people dont repay credit')"
      ]
     },
     "execution_count": 6,
     "metadata": {},
     "output_type": "execute_result"
    },
    {
     "data": {
      "image/png": "[encoded data removed]",
      "text/plain": [
       "<matplotlib.figure.Figure at 0x10c2372d0>"
      ]
     },
     "metadata": {},
     "output_type": "display_data"
    }
   ],
   "source": [
    "plt.figure(figsize=(7,10))\n",
    "plt.subplot(2, 1, 1)\n",
    "plt.hist(default_0['LIMIT_BAL'], bins = 30)\n",
    "plt.xlabel('sum of limit')\n",
    "plt.ylabel('count')\n",
    "plt.title('limit for people repay credit')\n",
    "plt.subplot(2, 1, 2)\n",
    "plt.hist(default_1['LIMIT_BAL'], bins = 30)\n",
    "plt.xlabel('sum of limit')\n",
    "plt.ylabel('count')\n",
    "plt.title('limit for people dont repay credit')"
   ]
  },
  {
   "cell_type": "markdown",
   "metadata": {},
   "source": [
    "Распределение кредитного лимита  явно скошено для обеих групп заемщиков"
   ]
  },
  {
   "cell_type": "markdown",
   "metadata": {},
   "source": [
    "Вычисление медианного значения и доверительного интервала"
   ]
  },
  {
   "cell_type": "code",
   "execution_count": 7,
   "metadata": {
    "collapsed": true
   },
   "outputs": [],
   "source": [
    "def_0_med = default_0['LIMIT_BAL'].median() \n",
    "def_1_med = default_1['LIMIT_BAL'].median()\n",
    "def_0_std = default_0['LIMIT_BAL'].std()/(len(default_0['LIMIT_BAL']))**0.5\n",
    "def_1_std = default_1['LIMIT_BAL'].std()/(len(default_1['LIMIT_BAL']))**0.5"
   ]
  },
  {
   "cell_type": "code",
   "execution_count": 9,
   "metadata": {},
   "outputs": [
    {
     "name": "stdout",
     "output_type": "stream",
     "text": [
      "('\\xd0\\xb4\\xd0\\xbe\\xd0\\xb2\\xd0\\xb5\\xd1\\x80\\xd0\\xb8\\xd1\\x82\\xd0\\xb5\\xd0\\xbb\\xd1\\x8c\\xd0\\xbd\\xd1\\x8b\\xd0\\xb9 \\xd0\\xb8\\xd0\\xbd\\xd1\\x82\\xd0\\xb5\\xd1\\x80\\xd0\\xb2\\xd0\\xb0\\xd0\\xbb \\xd0\\xbb\\xd0\\xb8\\xd0\\xbc\\xd0\\xb8\\xd1\\x82\\xd0\\xb0 \\xd0\\xb4\\xd0\\xbb\\xd1\\x8f \\xd0\\xbb\\xd1\\x8e\\xd0\\xb4\\xd0\\xb5\\xd0\\xb9, \\xd0\\xba\\xd0\\xbe\\xd1\\x82\\xd0\\xbe\\xd1\\x80\\xd1\\x8b\\xd0\\xb5 \\xd0\\xbf\\xd0\\xbb\\xd0\\xb0\\xd1\\x82\\xd1\\x8f\\xd1\\x82 \\xd0\\xba\\xd1\\x80\\xd0\\xb5\\xd0\\xb4\\xd0\\xb8\\xd1\\x82 \\xd0\\xbd\\xd0\\xb0 \\xd1\\x83\\xd1\\x80\\xd0\\xbe\\xd0\\xb2\\xd0\\xbd\\xd0\\xb5 \\xd0\\xb7\\xd0\\xbd\\xd0\\xb0\\xd1\\x87\\xd0\\xb8\\xd0\\xbc\\xd1\\x81\\xd1\\x82\\xd0\\xb8 0,05: \\n', (148312.10097837186, 151687.89902162814))\n"
     ]
    }
   ],
   "source": [
    "print( 'доверительный интервал лимита для людей, которые платят кредит на уровне значимсти 0,05: \\n', _tconfint_generic(def_0_med, def_0_std, dof = len(default_0['LIMIT_BAL'])-1,alpha = 0.05, alternative = 'two-sided'))"
   ]
  },
  {
   "cell_type": "code",
   "execution_count": 10,
   "metadata": {},
   "outputs": [
    {
     "name": "stdout",
     "output_type": "stream",
     "text": [
      "('\\xd0\\xb4\\xd0\\xbe\\xd0\\xb2\\xd0\\xb5\\xd1\\x80\\xd0\\xb8\\xd1\\x82\\xd0\\xb5\\xd0\\xbb\\xd1\\x8c\\xd0\\xbd\\xd1\\x8b\\xd0\\xb9 \\xd0\\xb8\\xd0\\xbd\\xd1\\x82\\xd0\\xb5\\xd1\\x80\\xd0\\xb2\\xd0\\xb0\\xd0\\xbb \\xd0\\xbb\\xd0\\xb8\\xd0\\xbc\\xd0\\xb8\\xd1\\x82\\xd0\\xb0 \\xd0\\xb4\\xd0\\xbb\\xd1\\x8f \\xd0\\xbb\\xd1\\x8e\\xd0\\xb4\\xd0\\xb5\\xd0\\xb9, \\xd0\\xba\\xd0\\xbe\\xd1\\x82\\xd0\\xbe\\xd1\\x80\\xd1\\x8b\\xd0\\xb5 \\xd0\\xbd\\xd0\\xb5 \\xd0\\xbf\\xd0\\xbb\\xd0\\xb0\\xd1\\x82\\xd1\\x8f\\xd1\\x82 \\xd0\\xba\\xd1\\x80\\xd0\\xb5\\xd0\\xb4\\xd0\\xb8\\xd1\\x82 \\xd0\\xbd\\xd0\\xb0 \\xd1\\x83\\xd1\\x80\\xd0\\xbe\\xd0\\xb2\\xd0\\xbd\\xd0\\xb5 \\xd0\\xb7\\xd0\\xbd\\xd0\\xb0\\xd1\\x87\\xd0\\xb8\\xd0\\xbc\\xd1\\x81\\xd1\\x82\\xd0\\xb8 0,05: \\n', (87223.49042765315, 92776.50957234685))\n"
     ]
    }
   ],
   "source": [
    "print( 'доверительный интервал лимита для людей, которые не платят кредит на уровне значимсти 0,05: \\n',_tconfint_generic(def_1_med, def_1_std, dof = len(default_1['LIMIT_BAL'])-1,alpha = 0.05, alternative = 'two-sided'))"
   ]
  },
  {
   "cell_type": "markdown",
   "metadata": {},
   "source": [
    "Вывод: доверительные интервалы медианных значений размера кредитного лимита не пересекаются. Можно сделать вывод о значимых различиях между ними.\n",
    "Гипотезу о равенстве распределений проверяем критерием Манна-Уитни (Н0 - значения кредитного лимита для двух групп распределены одинаково, Н1 - значения распределены не одинаково)"
   ]
  },
  {
   "cell_type": "code",
   "execution_count": 11,
   "metadata": {},
   "outputs": [
    {
     "data": {
      "text/plain": [
       "MannwhitneyuResult(statistic=95786286.5, pvalue=1.2255485818223303e-189)"
      ]
     },
     "execution_count": 11,
     "metadata": {},
     "output_type": "execute_result"
    }
   ],
   "source": [
    "sc.stats.mannwhitneyu(default_0['LIMIT_BAL'], default_1['LIMIT_BAL'], alternative = 'two-sided')"
   ]
  },
  {
   "cell_type": "markdown",
   "metadata": {},
   "source": [
    "Достигаемый уровень значимости меньше 0,05, можно отвергнуть нулевую гипотезу и сделать вывод о значимых различиях в распределениях уровня лимита для двух групп заемщиков. Полученные различия значимы с практической точки зрения, так как разница между медианными значениями кредитного лимита составляет 1,7 раза."
   ]
  },
  {
   "cell_type": "markdown",
   "metadata": {},
   "source": [
    "Пол (SEX): Проверьте гипотезу о том, что гендерный состав группы людей вернувших и не вернувших кредит отличается. Хорошо, если вы предоставите несколько различных решений этой задачи (с помощью доверительного интервала и подходящего статистического критерия)"
   ]
  },
  {
   "cell_type": "code",
   "execution_count": 12,
   "metadata": {
    "collapsed": true
   },
   "outputs": [],
   "source": [
    "from statsmodels.stats.proportion import proportion_confint"
   ]
  },
  {
   "cell_type": "code",
   "execution_count": 13,
   "metadata": {},
   "outputs": [
    {
     "data": {
      "text/plain": [
       "array([   0, 2873, 3763])"
      ]
     },
     "execution_count": 13,
     "metadata": {},
     "output_type": "execute_result"
    }
   ],
   "source": [
    "np.bincount(default_1['SEX'])"
   ]
  },
  {
   "cell_type": "code",
   "execution_count": 14,
   "metadata": {},
   "outputs": [
    {
     "data": {
      "image/png": "[encoded data removed]",
      "text/plain": [
       "<matplotlib.figure.Figure at 0x105438110>"
      ]
     },
     "metadata": {},
     "output_type": "display_data"
    }
   ],
   "source": [
    "plt.figure(figsize=(7,7))\n",
    "plt.bar(range(len(np.bincount(default_0['SEX']))), np.bincount(default_0['SEX']), color = 'r', alpha = 1, label = 'repay credit')\n",
    "plt.bar(range(len(np.bincount(default_1['SEX']))), np.bincount(default_1['SEX']), color = 'g', alpha = 1, label = 'dont repay credit')\n",
    "plt.legend()\n",
    "plt.xticks([0,1])\n",
    "plt.xlabel('woman - man')\n",
    "plt.ylabel('count')\n",
    "plt.title('Sex distribution')\n",
    "plt.show()"
   ]
  },
  {
   "cell_type": "code",
   "execution_count": 15,
   "metadata": {},
   "outputs": [
    {
     "data": {
      "text/plain": [
       "0"
      ]
     },
     "execution_count": 15,
     "metadata": {},
     "output_type": "execute_result"
    }
   ],
   "source": [
    "# доля мужского населения среди тех, кто не возвратил кредит\n",
    "sum(default_1['SEX']==1)/len(default_1['SEX'])"
   ]
  },
  {
   "cell_type": "code",
   "execution_count": 16,
   "metadata": {},
   "outputs": [
    {
     "data": {
      "text/plain": [
       "0"
      ]
     },
     "execution_count": 16,
     "metadata": {},
     "output_type": "execute_result"
    }
   ],
   "source": [
    "# доля мужского населения среди тех, кто возвратил кредит\n",
    "sum(default_0['SEX']==1)/len(default_0['SEX'])"
   ]
  },
  {
   "cell_type": "code",
   "execution_count": 17,
   "metadata": {},
   "outputs": [
    {
     "name": "stdout",
     "output_type": "stream",
     "text": [
      "('\\xd0\\xb4\\xd0\\xbe\\xd0\\xb2\\xd0\\xb5\\xd1\\x80\\xd0\\xb8\\xd1\\x82\\xd0\\xb5\\xd0\\xbb\\xd1\\x8c\\xd0\\xbd\\xd1\\x8b\\xd0\\xb9 \\xd0\\xb8\\xd0\\xbd\\xd1\\x82\\xd0\\xb5\\xd1\\x80\\xd0\\xb2\\xd0\\xb0\\xd0\\xbb \\xd0\\xb4\\xd0\\xbb\\xd1\\x8f \\xd0\\xb4\\xd0\\xbe\\xd0\\xbb\\xd0\\xb8 \\xd0\\xbc\\xd1\\x83\\xd0\\xb6\\xd1\\x81\\xd0\\xba\\xd0\\xbe\\xd0\\xb9 \\xd0\\xbd\\xd0\\xb0\\xd1\\x81\\xd0\\xb5\\xd0\\xbb\\xd0\\xb5\\xd0\\xbd\\xd0\\xb8\\xd1\\x8f \\xd1\\x81\\xd1\\x80\\xd0\\xb5\\xd0\\xb4\\xd0\\xb8 \\xd0\\xba\\xd0\\xbb\\xd0\\xb8\\xd0\\xb5\\xd0\\xbd\\xd1\\x82\\xd0\\xbe\\xd0\\xb2 \\xd0\\xbd\\xd0\\xb0 \\xd1\\x83\\xd1\\x80\\xd0\\xbe\\xd0\\xb2\\xd0\\xbd\\xd0\\xb5 \\xd0\\xb7\\xd0\\xbd\\xd0\\xb0\\xd1\\x87\\xd0\\xb8\\xd0\\xbc\\xd0\\xbe\\xd1\\x81\\xd1\\x82\\xd0\\xb8 0,05, \\xd0\\xba\\xd1\\x82\\xd0\\xbe \\xd0\\xbd\\xd0\\xb5 \\xd0\\xb2\\xd0\\xbe\\xd0\\xb7\\xd0\\xb2\\xd1\\x80\\xd0\\xb0\\xd1\\x82\\xd0\\xb8\\xd0\\xbb \\xd0\\xba\\xd1\\x80\\xd0\\xb5\\xd0\\xb4\\xd0\\xb8\\xd1\\x82 \\n', (0.4210202357094044, 0.44486282637618935))\n"
     ]
    }
   ],
   "source": [
    "print('доверительный интервал для доли мужской населения среди клиентов на уровне значимости 0,05, кто не возвратил кредит \\n', \n",
    "      proportion_confint(sum(default_1['SEX']==1), len(default_1['SEX']), method = 'normal'))"
   ]
  },
  {
   "cell_type": "code",
   "execution_count": 18,
   "metadata": {},
   "outputs": [
    {
     "name": "stdout",
     "output_type": "stream",
     "text": [
      "('\\xd0\\xb4\\xd0\\xbe\\xd0\\xb2\\xd0\\xb5\\xd1\\x80\\xd0\\xb8\\xd1\\x82\\xd0\\xb5\\xd0\\xbb\\xd1\\x8c\\xd0\\xbd\\xd1\\x8b\\xd0\\xb9 \\xd0\\xb8\\xd0\\xbd\\xd1\\x82\\xd0\\xb5\\xd1\\x80\\xd0\\xb2\\xd0\\xb0\\xd0\\xbb \\xd0\\xb4\\xd0\\xbb\\xd1\\x8f \\xd0\\xb4\\xd0\\xbe\\xd0\\xbb\\xd0\\xb8 \\xd0\\xbc\\xd1\\x83\\xd0\\xb6\\xd1\\x81\\xd0\\xba\\xd0\\xbe\\xd0\\xb9 \\xd0\\xbd\\xd0\\xb0\\xd1\\x81\\xd0\\xb5\\xd0\\xbb\\xd0\\xb5\\xd0\\xbd\\xd0\\xb8\\xd1\\x8f \\xd1\\x81\\xd1\\x80\\xd0\\xb5\\xd0\\xb4\\xd0\\xb8 \\xd0\\xba\\xd0\\xbb\\xd0\\xb8\\xd0\\xb5\\xd0\\xbd\\xd1\\x82\\xd0\\xbe\\xd0\\xb2 \\xd0\\xbd\\xd0\\xb0 \\xd1\\x83\\xd1\\x80\\xd0\\xbe\\xd0\\xb2\\xd0\\xbd\\xd0\\xb5 \\xd0\\xb7\\xd0\\xbd\\xd0\\xb0\\xd1\\x87\\xd0\\xb8\\xd0\\xbc\\xd0\\xbe\\xd1\\x81\\xd1\\x82\\xd0\\xb8 0,05, \\xd0\\xba\\xd1\\x82\\xd0\\xbe \\xd0\\xb2\\xd0\\xbe\\xd0\\xb7\\xd0\\xb2\\xd1\\x80\\xd0\\xb0\\xd1\\x82\\xd0\\xb8\\xd0\\xbb \\xd0\\xba\\xd1\\x80\\xd0\\xb5\\xd0\\xb4\\xd0\\xb8\\xd1\\x82 \\n', (0.37960806572767264, 0.3920919856333957))\n"
     ]
    }
   ],
   "source": [
    "print('доверительный интервал для доли мужской населения среди клиентов на уровне значимости 0,05, кто возвратил кредит \\n', \n",
    "      proportion_confint(sum(default_0['SEX']==1), len(default_0['SEX']), method = 'normal'))"
   ]
  },
  {
   "cell_type": "markdown",
   "metadata": {},
   "source": [
    "Вывод: доверительные интервалы для долей мужской части населения для частей населения, кто вернул и не вернул кредит, не пересекаются. Можно сделать вывод о значимых различиях между ними. Доля мужчин среди тех, кто не вернул кредит, больше, чем среди тех, кто его вернул.\n",
    "Еще раз убедимся в сделанном выводе и найдем доверительный интервал для разности долей для независимых выборок"
   ]
  },
  {
   "cell_type": "code",
   "execution_count": 19,
   "metadata": {
    "collapsed": true
   },
   "outputs": [],
   "source": [
    "# чтобы посчитать доверительный интервал для разности переназначим в данных для женщин индикатор 2 на индикатор 0\n",
    "default_0.loc[default_0['SEX'] == 2, 'SEX'] = 0\n",
    "default_1.loc[default_1['SEX'] == 2, 'SEX'] = 0"
   ]
  },
  {
   "cell_type": "code",
   "execution_count": 20,
   "metadata": {},
   "outputs": [
    {
     "data": {
      "text/plain": [
       "count    23364.000000\n",
       "mean         0.385850\n",
       "std          0.486806\n",
       "min          0.000000\n",
       "25%          0.000000\n",
       "50%          0.000000\n",
       "75%          1.000000\n",
       "max          1.000000\n",
       "Name: SEX, dtype: float64"
      ]
     },
     "execution_count": 20,
     "metadata": {},
     "output_type": "execute_result"
    }
   ],
   "source": [
    "default_0['SEX'].describe()"
   ]
  },
  {
   "cell_type": "code",
   "execution_count": 21,
   "metadata": {},
   "outputs": [
    {
     "data": {
      "text/plain": [
       "count    6636.000000\n",
       "mean        0.432942\n",
       "std         0.495520\n",
       "min         0.000000\n",
       "25%         0.000000\n",
       "50%         0.000000\n",
       "75%         1.000000\n",
       "max         1.000000\n",
       "Name: SEX, dtype: float64"
      ]
     },
     "execution_count": 21,
     "metadata": {},
     "output_type": "execute_result"
    }
   ],
   "source": [
    "default_1['SEX'].describe()"
   ]
  },
  {
   "cell_type": "code",
   "execution_count": 22,
   "metadata": {
    "collapsed": true
   },
   "outputs": [],
   "source": [
    "def proportions_confint_diff_ind(sample1, sample2, alpha = 0.05):    \n",
    "    z = sc.stats.norm.ppf(1 - alpha / 2.)   \n",
    "    p1 = float(sum(sample1)) / len(sample1)\n",
    "    p2 = float(sum(sample2)) / len(sample2)\n",
    "    \n",
    "    left_boundary = (p1 - p2) - z * np.sqrt(p1 * (1 - p1)/ len(sample1) + p2 * (1 - p2)/ len(sample2))\n",
    "    right_boundary = (p1 - p2) + z * np.sqrt(p1 * (1 - p1)/ len(sample1) + p2 * (1 - p2)/ len(sample2))\n",
    "    \n",
    "    return (left_boundary, right_boundary)"
   ]
  },
  {
   "cell_type": "code",
   "execution_count": 23,
   "metadata": {},
   "outputs": [
    {
     "name": "stdout",
     "output_type": "stream",
     "text": [
      "('\\xd0\\xb4\\xd0\\xbe\\xd0\\xb2\\xd0\\xb5\\xd1\\x80\\xd0\\xb8\\xd1\\x82\\xd0\\xb5\\xd0\\xbb\\xd1\\x8c\\xd0\\xbd\\xd1\\x8b\\xd0\\xb9 \\xd0\\xb8\\xd0\\xbd\\xd1\\x82\\xd0\\xb5\\xd1\\x80\\xd0\\xb2\\xd0\\xb0\\xd0\\xbb \\xd0\\xb4\\xd0\\xbb\\xd1\\x8f \\xd1\\x80\\xd0\\xb0\\xd0\\xb7\\xd0\\xbd\\xd0\\xbe\\xd1\\x81\\xd1\\x82\\xd0\\xb8 \\xd0\\xb4\\xd0\\xbe\\xd0\\xbb\\xd0\\xb8 \\xd0\\xbc\\xd1\\x83\\xd0\\xb6\\xd1\\x87\\xd0\\xb8\\xd0\\xbd \\xd0\\xb2 \\xd0\\xb4\\xd0\\xb2\\xd1\\x83\\xd1\\x85 \\xd0\\xb3\\xd1\\x80\\xd1\\x83\\xd0\\xbf\\xd0\\xbf\\xd0\\xb0\\xd1\\x85 \\xd0\\xbd\\xd0\\xb0 \\xd1\\x83\\xd1\\x80\\xd0\\xbe\\xd0\\xb2\\xd0\\xbd\\xd0\\xb5 \\xd0\\xb7\\xd0\\xbd\\xd0\\xb0\\xd1\\x87\\xd0\\xb8\\xd0\\xbc\\xd0\\xbe\\xd1\\x81\\xd1\\x82\\xd0\\xb8 0,05: \\n', (0.03363493274962867, 0.060548077974896725))\n"
     ]
    }
   ],
   "source": [
    "print('доверительный интервал для разности доли мужчин в двух группах на уровне значимости 0,05: \\n', \n",
    "      proportions_confint_diff_ind(default_1.SEX, default_0.SEX))"
   ]
  },
  {
   "cell_type": "markdown",
   "metadata": {},
   "source": [
    "Доверительный интервал не включает 0, поэтому вывод сделанный ранее подтверждается."
   ]
  },
  {
   "cell_type": "markdown",
   "metadata": {},
   "source": [
    "Образование (EDUCATION): Проверьте гипотезу о том, что образование не влияет на то, вернет ли человек долг. Предложите способ наглядного представления разницы в ожидаемых и наблюдаемых значениях количества человек вернувших и не вернувших долг. Например, составьте таблицу сопряженности \"образование\" на \"возврат долга\", где значением ячейки была бы разность между наблюдаемым и ожидаемым количеством человек. Как бы вы предложили модифицировать таблицу так, чтобы привести значения ячеек к одному масштабу не потеряв в интерпретируемости ? Наличие какого образования является наилучшим индикатором того, что человек отдаст долг ? наоборт, не отдаст долг ?"
   ]
  },
  {
   "cell_type": "code",
   "execution_count": 246,
   "metadata": {},
   "outputs": [
    {
     "data": {
      "text/plain": [
       "2    3330\n",
       "1    2036\n",
       "3    1237\n",
       "5      18\n",
       "6       8\n",
       "4       7\n",
       "Name: EDUCATION, dtype: int64"
      ]
     },
     "execution_count": 246,
     "metadata": {},
     "output_type": "execute_result"
    }
   ],
   "source": [
    "# количество людей по уровню образования среди невернувших кредит\n",
    "default_1_educ = default_1['EDUCATION'].value_counts()\n",
    "default_1_educ"
   ]
  },
  {
   "cell_type": "code",
   "execution_count": 241,
   "metadata": {},
   "outputs": [
    {
     "data": {
      "text/plain": [
       "2    10700\n",
       "1     8549\n",
       "3     3680\n",
       "5      262\n",
       "4      116\n",
       "6       43\n",
       "0       14\n",
       "Name: EDUCATION, dtype: int64"
      ]
     },
     "execution_count": 241,
     "metadata": {},
     "output_type": "execute_result"
    }
   ],
   "source": [
    "# количество людей по уровню образования среди вернувших кредит\n",
    "default_0_educ = default_0['EDUCATION'].value_counts()\n",
    "default_0_educ"
   ]
  },
  {
   "cell_type": "code",
   "execution_count": 155,
   "metadata": {},
   "outputs": [
    {
     "data": {
      "text/plain": [
       "False"
      ]
     },
     "execution_count": 155,
     "metadata": {},
     "output_type": "execute_result"
    }
   ],
   "source": [
    "# проверим есть ли пропущенные значения в данных\n",
    "default_0.isna().any().any()"
   ]
  },
  {
   "cell_type": "markdown",
   "metadata": {},
   "source": [
    "Данные которые у нас есть категориальные, поэтому можно составить таблицу сопряженности и проверить гипотезу о том, что образование не влияет на то вернет ли человек долг."
   ]
  },
  {
   "cell_type": "code",
   "execution_count": 284,
   "metadata": {
    "collapsed": true
   },
   "outputs": [],
   "source": [
    "from scipy.stats import chi2_contingency"
   ]
  },
  {
   "cell_type": "code",
   "execution_count": 285,
   "metadata": {
    "collapsed": true
   },
   "outputs": [],
   "source": [
    "default_1_education = data.groupby('EDUCATION')['default'].sum()\n",
    "default_0_education = data.groupby('EDUCATION')['default'].count() - data.groupby('EDUCATION')['default'].sum()"
   ]
  },
  {
   "cell_type": "code",
   "execution_count": 286,
   "metadata": {
    "collapsed": true
   },
   "outputs": [],
   "source": [
    "confusion_matrix_education = [list(default_0_education.values), list(default_1_education.values)]"
   ]
  },
  {
   "cell_type": "code",
   "execution_count": 287,
   "metadata": {},
   "outputs": [
    {
     "data": {
      "text/plain": [
       "[[14, 8549, 10700, 3680, 116, 262, 43], [0, 2036, 3330, 1237, 7, 18, 8]]"
      ]
     },
     "execution_count": 287,
     "metadata": {},
     "output_type": "execute_result"
    }
   ],
   "source": [
    "confusion_matrix_education"
   ]
  },
  {
   "cell_type": "code",
   "execution_count": 289,
   "metadata": {},
   "outputs": [
    {
     "data": {
      "text/plain": [
       "(163.21655786997073,\n",
       " 1.2332626245415605e-32,\n",
       " 6,\n",
       " array([[1.0903200e+01, 8.2435980e+03, 1.0926564e+04, 3.8293596e+03,\n",
       "         9.5792400e+01, 2.1806400e+02, 3.9718800e+01],\n",
       "        [3.0968000e+00, 2.3414020e+03, 3.1034360e+03, 1.0876404e+03,\n",
       "         2.7207600e+01, 6.1936000e+01, 1.1281200e+01]]))"
      ]
     },
     "execution_count": 289,
     "metadata": {},
     "output_type": "execute_result"
    }
   ],
   "source": [
    "chi2_contingency(confusion_matrix_education)"
   ]
  },
  {
   "cell_type": "markdown",
   "metadata": {},
   "source": [
    "По полученному значению р (1.23е-32) можно сделать вывод о том, что образование является значимым фактором (на уровне значимости 0,05)"
   ]
  },
  {
   "cell_type": "code",
   "execution_count": 299,
   "metadata": {},
   "outputs": [
    {
     "data": {
      "text/plain": [
       "array([[1.0903200e+01, 8.2435980e+03, 1.0926564e+04, 3.8293596e+03,\n",
       "        9.5792400e+01, 2.1806400e+02, 3.9718800e+01],\n",
       "       [3.0968000e+00, 2.3414020e+03, 3.1034360e+03, 1.0876404e+03,\n",
       "        2.7207600e+01, 6.1936000e+01, 1.1281200e+01]])"
      ]
     },
     "execution_count": 299,
     "metadata": {},
     "output_type": "execute_result"
    }
   ],
   "source": [
    "expected_values_educ = chi2_contingency(confusion_matrix_education)[3]\n",
    "expected_values_educ"
   ]
  },
  {
   "cell_type": "code",
   "execution_count": 294,
   "metadata": {},
   "outputs": [
    {
     "data": {
      "text/plain": [
       "array([[  -3.0968, -305.402 ,  226.564 ,  149.3596,  -20.2076,  -43.936 ,\n",
       "          -3.2812],\n",
       "       [   3.0968,  305.402 , -226.564 , -149.3596,   20.2076,   43.936 ,\n",
       "           3.2812]])"
      ]
     },
     "execution_count": 294,
     "metadata": {},
     "output_type": "execute_result"
    }
   ],
   "source": [
    "expected_values_educ-confusion_matrix_education"
   ]
  },
  {
   "cell_type": "code",
   "execution_count": 297,
   "metadata": {},
   "outputs": [
    {
     "data": {
      "text/html": [
       "<div>\n",
       "<style scoped>\n",
       "    .dataframe tbody tr th:only-of-type {\n",
       "        vertical-align: middle;\n",
       "    }\n",
       "\n",
       "    .dataframe tbody tr th {\n",
       "        vertical-align: top;\n",
       "    }\n",
       "\n",
       "    .dataframe thead th {\n",
       "        text-align: right;\n",
       "    }\n",
       "</style>\n",
       "<table border=\"1\" class=\"dataframe\">\n",
       "  <thead>\n",
       "    <tr style=\"text-align: right;\">\n",
       "      <th></th>\n",
       "      <th>phd</th>\n",
       "      <th>magistr</th>\n",
       "      <th>bachelor</th>\n",
       "      <th>school_grad</th>\n",
       "      <th>primary_school</th>\n",
       "      <th>other</th>\n",
       "      <th>no_data</th>\n",
       "    </tr>\n",
       "  </thead>\n",
       "  <tbody>\n",
       "    <tr>\n",
       "      <th>default_0</th>\n",
       "      <td>-3.0968</td>\n",
       "      <td>-305.402</td>\n",
       "      <td>226.564</td>\n",
       "      <td>149.3596</td>\n",
       "      <td>-20.2076</td>\n",
       "      <td>-43.936</td>\n",
       "      <td>-3.2812</td>\n",
       "    </tr>\n",
       "    <tr>\n",
       "      <th>default_1</th>\n",
       "      <td>3.0968</td>\n",
       "      <td>305.402</td>\n",
       "      <td>-226.564</td>\n",
       "      <td>-149.3596</td>\n",
       "      <td>20.2076</td>\n",
       "      <td>43.936</td>\n",
       "      <td>3.2812</td>\n",
       "    </tr>\n",
       "  </tbody>\n",
       "</table>\n",
       "</div>"
      ],
      "text/plain": [
       "              phd  magistr  bachelor  school_grad  primary_school   other  \\\n",
       "default_0 -3.0968 -305.402   226.564     149.3596        -20.2076 -43.936   \n",
       "default_1  3.0968  305.402  -226.564    -149.3596         20.2076  43.936   \n",
       "\n",
       "           no_data  \n",
       "default_0  -3.2812  \n",
       "default_1   3.2812  "
      ]
     },
     "execution_count": 297,
     "metadata": {},
     "output_type": "execute_result"
    }
   ],
   "source": [
    "# в таблице покажем разницу между ожидаемыми и наблюдаемыми значениями\n",
    "pd.DataFrame(expected_values_educ-confusion_matrix_education, \n",
    "             columns = ['phd', 'magistr', 'bachelor', 'school_grad', 'primary_school', 'other', 'no_data'],\n",
    "            index = ['default_0', 'default_1'])"
   ]
  },
  {
   "cell_type": "code",
   "execution_count": 298,
   "metadata": {},
   "outputs": [
    {
     "data": {
      "text/html": [
       "<div>\n",
       "<style scoped>\n",
       "    .dataframe tbody tr th:only-of-type {\n",
       "        vertical-align: middle;\n",
       "    }\n",
       "\n",
       "    .dataframe tbody tr th {\n",
       "        vertical-align: top;\n",
       "    }\n",
       "\n",
       "    .dataframe thead th {\n",
       "        text-align: right;\n",
       "    }\n",
       "</style>\n",
       "<table border=\"1\" class=\"dataframe\">\n",
       "  <thead>\n",
       "    <tr style=\"text-align: right;\">\n",
       "      <th></th>\n",
       "      <th>phd</th>\n",
       "      <th>magistr</th>\n",
       "      <th>bachelor</th>\n",
       "      <th>school_grad</th>\n",
       "      <th>primary_school</th>\n",
       "      <th>other</th>\n",
       "      <th>no_data</th>\n",
       "    </tr>\n",
       "  </thead>\n",
       "  <tbody>\n",
       "    <tr>\n",
       "      <th>default_0</th>\n",
       "      <td>-0.284027</td>\n",
       "      <td>-0.037047</td>\n",
       "      <td>0.020735</td>\n",
       "      <td>0.039004</td>\n",
       "      <td>-0.210952</td>\n",
       "      <td>-0.201482</td>\n",
       "      <td>-0.082611</td>\n",
       "    </tr>\n",
       "    <tr>\n",
       "      <th>default_1</th>\n",
       "      <td>1.000000</td>\n",
       "      <td>0.130436</td>\n",
       "      <td>-0.073004</td>\n",
       "      <td>-0.137324</td>\n",
       "      <td>0.742719</td>\n",
       "      <td>0.709377</td>\n",
       "      <td>0.290856</td>\n",
       "    </tr>\n",
       "  </tbody>\n",
       "</table>\n",
       "</div>"
      ],
      "text/plain": [
       "                phd   magistr  bachelor  school_grad  primary_school  \\\n",
       "default_0 -0.284027 -0.037047  0.020735     0.039004       -0.210952   \n",
       "default_1  1.000000  0.130436 -0.073004    -0.137324        0.742719   \n",
       "\n",
       "              other   no_data  \n",
       "default_0 -0.201482 -0.082611  \n",
       "default_1  0.709377  0.290856  "
      ]
     },
     "execution_count": 298,
     "metadata": {},
     "output_type": "execute_result"
    }
   ],
   "source": [
    "# нормируем вышеполученную таблицу на ожидаемые значения\n",
    "pd.DataFrame((expected_values_educ-confusion_matrix_education)/expected_values_educ, \n",
    "             columns = ['phd', 'magistr', 'bachelor', 'school_grad', 'primary_school', 'other', 'no_data'],\n",
    "            index = ['default_0', 'default_1'])"
   ]
  },
  {
   "cell_type": "markdown",
   "metadata": {},
   "source": [
    "Вывод: наличие докторской, магистерской степени, является лучшим индикатором из всех образований, что человек отдаст долг. \"Худшим\" образованием с точки зрения разницы ожидаемых и наблюдаемых значений является степень бакалавра. "
   ]
  },
  {
   "cell_type": "markdown",
   "metadata": {},
   "source": [
    "Семейное положение (MARRIAGE): Проверьте, как связан семейный статус с индикатором дефолта: нужно предложить меру, по которой можно измерить возможную связь этих переменных и посчитать ее значение"
   ]
  },
  {
   "cell_type": "code",
   "execution_count": 303,
   "metadata": {},
   "outputs": [
    {
     "data": {
      "image/png": "[encoded data removed]",
      "text/plain": [
       "<Figure size 504x504 with 1 Axes>"
      ]
     },
     "metadata": {},
     "output_type": "display_data"
    }
   ],
   "source": [
    "plt.figure(figsize=(7,7))\n",
    "plt.bar(range(len(np.bincount(default_0['MARRIAGE']))), np.bincount(default_0['MARRIAGE']), color = 'r', alpha = 1, label = 'repay credit')\n",
    "plt.bar(range(len(np.bincount(default_1['MARRIAGE']))), np.bincount(default_1['MARRIAGE']), color = 'g', alpha = 1, label = 'dont repay credit')\n",
    "plt.legend()\n",
    "plt.xticks([0,1,2,3])\n",
    "plt.xlabel('woman - man')\n",
    "plt.ylabel('count')\n",
    "plt.title('Sex distribution')\n",
    "plt.show()"
   ]
  },
  {
   "cell_type": "markdown",
   "metadata": {},
   "source": [
    "По величине p уровня значимости коэффициентов регресии можно сказать, что семейный статус является значимым предиктором для предсказания дефолта (на уровне значимости 0,05). Построим доверительные интервалы на уровне 0,05 для долей дефолтов в каждой группе клиентов по семейному статусу:"
   ]
  },
  {
   "cell_type": "code",
   "execution_count": 304,
   "metadata": {
    "collapsed": true
   },
   "outputs": [],
   "source": [
    "marriage = {0:'refuse_to_answer', 1:'married', 2:'single', 3:'no_data'}"
   ]
  },
  {
   "cell_type": "code",
   "execution_count": 305,
   "metadata": {},
   "outputs": [
    {
     "name": "stdout",
     "output_type": "stream",
     "text": [
      "refuse_to_answer (0.01528173453074011, 0.16990345065444507)\n",
      "married (0.22760945293217713, 0.24182461984035378)\n",
      "single (0.20297301446882615, 0.21559376077547354)\n",
      "no_data (0.21222283047806575, 0.30790100853122215)\n"
     ]
    }
   ],
   "source": [
    "for i in range(4):\n",
    "    print(marriage[i] ,proportion_confint(sum(default_1['MARRIAGE']==i), len(data[data['MARRIAGE']==i]), method = 'normal'))"
   ]
  },
  {
   "cell_type": "markdown",
   "metadata": {},
   "source": [
    "Доверительные интервалы для позиций refuse_to_answer, married и single не пересекаются. Можно сказать, что доля женатых/замужних клиентов чаще не отдают кредиты, чем одинокие клиенты."
   ]
  },
  {
   "cell_type": "markdown",
   "metadata": {},
   "source": [
    "Проверим гипотезу H0 о том, что семейное положение не влияет на возвращение кредита заемщиком, против альтернативной гипотезы Н1, что семейное положение влияет на возвращение кредита. Используем критерий V Крамера для категориальных признаков."
   ]
  },
  {
   "cell_type": "code",
   "execution_count": 306,
   "metadata": {
    "collapsed": true
   },
   "outputs": [],
   "source": [
    "default_1_marrige = data.groupby('MARRIAGE')['default'].sum()\n",
    "default_0_marrige = data.groupby('MARRIAGE')['default'].count() - data.groupby('MARRIAGE')['default'].sum()"
   ]
  },
  {
   "cell_type": "code",
   "execution_count": 307,
   "metadata": {
    "collapsed": true
   },
   "outputs": [],
   "source": [
    "confusion_matrix = [list(default_0_marrige.values), list(default_1_marrige.values)]"
   ]
  },
  {
   "cell_type": "code",
   "execution_count": 324,
   "metadata": {},
   "outputs": [
    {
     "data": {
      "text/plain": [
       "(35.66239583433609,\n",
       " 8.825862457577375e-08,\n",
       " 3,\n",
       " array([[4.20552000e+01, 1.06376292e+04, 1.24327632e+04, 2.51552400e+02],\n",
       "        [1.19448000e+01, 3.02137080e+03, 3.53123680e+03, 7.14476000e+01]]))"
      ]
     },
     "execution_count": 324,
     "metadata": {},
     "output_type": "execute_result"
    }
   ],
   "source": [
    "chi2_stat = chi2_contingency(confusion_matrix)\n",
    "chi2_stat"
   ]
  },
  {
   "cell_type": "code",
   "execution_count": 333,
   "metadata": {
    "collapsed": true
   },
   "outputs": [],
   "source": [
    "V_KR = np.sqrt(chi2_stat[0]/(sum(confusion_matrix)*(len(confusion_matrix)-1)))"
   ]
  },
  {
   "cell_type": "code",
   "execution_count": 334,
   "metadata": {},
   "outputs": [
    {
     "data": {
      "text/plain": [
       "0.034478203662766466"
      ]
     },
     "execution_count": 334,
     "metadata": {},
     "output_type": "execute_result"
    }
   ],
   "source": [
    "V_KR"
   ]
  },
  {
   "cell_type": "markdown",
   "metadata": {},
   "source": [
    "Кореляция между семейным положением и дефолтом составляет 0,0344. Она очень несущественна"
   ]
  },
  {
   "cell_type": "markdown",
   "metadata": {},
   "source": [
    "Возраст (AGE): Относительно двух групп людей вернувших и не вернувших кредит проверьте следующие гипотезы: a) о равенстве медианных значений возрастов людей b) о равенстве распределений с помощью одного из подходящих непараметрических критериев проверки равенства средних. Значимы ли полученные результаты с практической точки зрения"
   ]
  },
  {
   "cell_type": "code",
   "execution_count": 310,
   "metadata": {
    "scrolled": true
   },
   "outputs": [
    {
     "data": {
      "image/png": "[encoded data removed]",
      "text/plain": [
       "<Figure size 1008x504 with 2 Axes>"
      ]
     },
     "metadata": {},
     "output_type": "display_data"
    }
   ],
   "source": [
    "plt.figure(figsize=(14,7))\n",
    "plt.subplot(1, 2, 1)\n",
    "plt.hist(default_0['AGE'], bins = 15, color = 'g', alpha = 0.7)\n",
    "plt.axvline(default_0['AGE'].median())\n",
    "plt.xlabel('age')\n",
    "plt.ylabel('count')\n",
    "plt.title('age of people repay credit')\n",
    "plt.subplot(1, 2, 2)\n",
    "plt.hist(default_1['AGE'], bins = 15, color = 'g', alpha = 0.7)\n",
    "plt.axvline(default_1['AGE'].median())\n",
    "plt.xlabel('age')\n",
    "plt.ylabel('count')\n",
    "plt.title('age of people dont repay credit')\n",
    "plt.show()"
   ]
  },
  {
   "cell_type": "code",
   "execution_count": 210,
   "metadata": {
    "collapsed": true
   },
   "outputs": [],
   "source": [
    "# медианное значение и доверительный интервал\n",
    "def_0_med_age = default_0['AGE'].median() \n",
    "def_1_med_age = default_1['AGE'].median()\n",
    "def_0_std_age = default_0['AGE'].std()/(len(default_0['AGE']))**0.5\n",
    "def_1_std_age = default_1['AGE'].std()/(len(default_1['AGE']))**0.5"
   ]
  },
  {
   "cell_type": "code",
   "execution_count": 214,
   "metadata": {},
   "outputs": [
    {
     "data": {
      "text/plain": [
       "(33.88359911087938, 34.11640088912062)"
      ]
     },
     "execution_count": 214,
     "metadata": {},
     "output_type": "execute_result"
    }
   ],
   "source": [
    "# доверительный интервал для клиентов, кто платит кредит на уровне значимости 0,05\n",
    "_tconfint_generic(def_0_med_age, def_0_std_age, dof = len(default_0['AGE'])-1,alpha = 0.05, alternative = 'two-sided')"
   ]
  },
  {
   "cell_type": "code",
   "execution_count": 215,
   "metadata": {},
   "outputs": [
    {
     "data": {
      "text/plain": [
       "(33.766733704495486, 34.233266295504514)"
      ]
     },
     "execution_count": 215,
     "metadata": {},
     "output_type": "execute_result"
    }
   ],
   "source": [
    "# доверительный интервал для клиентов, кто не платит кредит на уровне значимости 0,05\n",
    "_tconfint_generic(def_1_med_age, def_1_std_age, dof = len(default_1['AGE'])-1,alpha = 0.05, alternative = 'two-sided')"
   ]
  },
  {
   "cell_type": "markdown",
   "metadata": {},
   "source": [
    "Один доверительный интервал полностью включает другой. Поэтому можно заключить, что медианные значения возраста для двух групп значимо не отличаются. В качестве проверки используем критерий Манна-Уитни:"
   ]
  },
  {
   "cell_type": "code",
   "execution_count": 217,
   "metadata": {},
   "outputs": [
    {
     "data": {
      "text/plain": [
       "MannwhitneyuResult(statistic=76966879.5, pvalue=0.3725035434898616)"
      ]
     },
     "execution_count": 217,
     "metadata": {},
     "output_type": "execute_result"
    }
   ],
   "source": [
    "sc.stats.mannwhitneyu(default_0['AGE'], default_1['AGE'], alternative = 'two-sided')"
   ]
  },
  {
   "cell_type": "markdown",
   "metadata": {},
   "source": [
    "Мы не можем отвергнуть нулевую гипотезу о равенстве медиан в двух выбоках (на уровне значимости 0,05). Достигаемый уровень значимости - 0,372. "
   ]
  },
  {
   "cell_type": "code",
   "execution_count": 320,
   "metadata": {},
   "outputs": [
    {
     "name": "stdout",
     "output_type": "stream",
     "text": [
      "Практическая значимость:\n",
      " Median of good creditors:34.000000 \n",
      " Median of bad creditors:34.000000 \n",
      "\n"
     ]
    }
   ],
   "source": [
    "print('Практическая значимость:\\n',\n",
    "      'Median of good creditors:%f \\n'% def_0_med_age,\n",
    "      'Median of bad creditors:%f \\n'% def_1_med_age)"
   ]
  },
  {
   "cell_type": "markdown",
   "metadata": {},
   "source": [
    "Полученные результаты медиан возраста практически не значимы."
   ]
  }
 ],
 "metadata": {
  "kernelspec": {
   "display_name": "Python 2",
   "language": "python",
   "name": "python2"
  },
  "language_info": {
   "codemirror_mode": {
    "name": "ipython",
    "version": 2
   },
   "file_extension": ".py",
   "mimetype": "text/x-python",
   "name": "python",
   "nbconvert_exporter": "python",
   "pygments_lexer": "ipython2",
   "version": "2.7.14"
  }
 },
 "nbformat": 4,
 "nbformat_minor": 2
}
